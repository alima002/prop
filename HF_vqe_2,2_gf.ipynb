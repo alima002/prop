{
  "nbformat": 4,
  "nbformat_minor": 0,
  "metadata": {
    "colab": {
      "provenance": [],
      "toc_visible": true,
      "include_colab_link": true
    },
    "kernelspec": {
      "name": "python3",
      "display_name": "Python 3"
    },
    "language_info": {
      "name": "python"
    }
  },
  "cells": [
    {
      "cell_type": "markdown",
      "metadata": {
        "id": "view-in-github",
        "colab_type": "text"
      },
      "source": [
        "<a href=\"https://colab.research.google.com/github/alima002/rdm1_vqe_prop/blob/main/HF_vqe_2%2C2_gf.ipynb\" target=\"_parent\"><img src=\"https://colab.research.google.com/assets/colab-badge.svg\" alt=\"Open In Colab\"/></a>"
      ]
    },
    {
      "cell_type": "code",
      "execution_count": null,
      "metadata": {
        "colab": {
          "base_uri": "https://localhost:8080/"
        },
        "id": "P7mB6zjLwydD",
        "outputId": "5db2e0d0-8470-48a1-a97a-694f36c7b0a7"
      },
      "outputs": [
        {
          "output_type": "stream",
          "name": "stdout",
          "text": [
            "Collecting pennylane\n",
            "  Downloading PennyLane-0.40.0-py3-none-any.whl.metadata (10 kB)\n",
            "Requirement already satisfied: numpy<2.1 in /usr/local/lib/python3.11/dist-packages (from pennylane) (1.26.4)\n",
            "Requirement already satisfied: scipy in /usr/local/lib/python3.11/dist-packages (from pennylane) (1.14.1)\n",
            "Requirement already satisfied: networkx in /usr/local/lib/python3.11/dist-packages (from pennylane) (3.4.2)\n",
            "Collecting rustworkx>=0.14.0 (from pennylane)\n",
            "  Downloading rustworkx-0.16.0-cp39-abi3-manylinux_2_17_x86_64.manylinux2014_x86_64.whl.metadata (10 kB)\n",
            "Requirement already satisfied: autograd in /usr/local/lib/python3.11/dist-packages (from pennylane) (1.7.0)\n",
            "Collecting tomlkit (from pennylane)\n",
            "  Downloading tomlkit-0.13.2-py3-none-any.whl.metadata (2.7 kB)\n",
            "Collecting appdirs (from pennylane)\n",
            "  Downloading appdirs-1.4.4-py2.py3-none-any.whl.metadata (9.0 kB)\n",
            "Collecting autoray>=0.6.11 (from pennylane)\n",
            "  Downloading autoray-0.7.1-py3-none-any.whl.metadata (5.8 kB)\n",
            "Requirement already satisfied: cachetools in /usr/local/lib/python3.11/dist-packages (from pennylane) (5.5.2)\n",
            "Collecting pennylane-lightning>=0.40 (from pennylane)\n",
            "  Downloading PennyLane_Lightning-0.40.0-cp311-cp311-manylinux_2_28_x86_64.whl.metadata (27 kB)\n",
            "Requirement already satisfied: requests in /usr/local/lib/python3.11/dist-packages (from pennylane) (2.32.3)\n",
            "Requirement already satisfied: typing-extensions in /usr/local/lib/python3.11/dist-packages (from pennylane) (4.12.2)\n",
            "Requirement already satisfied: packaging in /usr/local/lib/python3.11/dist-packages (from pennylane) (24.2)\n",
            "Collecting diastatic-malt (from pennylane)\n",
            "  Downloading diastatic_malt-2.15.2-py3-none-any.whl.metadata (2.6 kB)\n",
            "Collecting scipy-openblas32>=0.3.26 (from pennylane-lightning>=0.40->pennylane)\n",
            "  Downloading scipy_openblas32-0.3.29.0.0-py3-none-manylinux_2_17_x86_64.manylinux2014_x86_64.whl.metadata (56 kB)\n",
            "\u001b[2K     \u001b[90m━━━━━━━━━━━━━━━━━━━━━━━━━━━━━━━━━━━━━━━━\u001b[0m \u001b[32m56.1/56.1 kB\u001b[0m \u001b[31m2.3 MB/s\u001b[0m eta \u001b[36m0:00:00\u001b[0m\n",
            "\u001b[?25hRequirement already satisfied: astunparse in /usr/local/lib/python3.11/dist-packages (from diastatic-malt->pennylane) (1.6.3)\n",
            "Requirement already satisfied: gast in /usr/local/lib/python3.11/dist-packages (from diastatic-malt->pennylane) (0.6.0)\n",
            "Requirement already satisfied: termcolor in /usr/local/lib/python3.11/dist-packages (from diastatic-malt->pennylane) (2.5.0)\n",
            "Requirement already satisfied: charset-normalizer<4,>=2 in /usr/local/lib/python3.11/dist-packages (from requests->pennylane) (3.4.1)\n",
            "Requirement already satisfied: idna<4,>=2.5 in /usr/local/lib/python3.11/dist-packages (from requests->pennylane) (3.10)\n",
            "Requirement already satisfied: urllib3<3,>=1.21.1 in /usr/local/lib/python3.11/dist-packages (from requests->pennylane) (2.3.0)\n",
            "Requirement already satisfied: certifi>=2017.4.17 in /usr/local/lib/python3.11/dist-packages (from requests->pennylane) (2025.1.31)\n",
            "Requirement already satisfied: wheel<1.0,>=0.23.0 in /usr/local/lib/python3.11/dist-packages (from astunparse->diastatic-malt->pennylane) (0.45.1)\n",
            "Requirement already satisfied: six<2.0,>=1.6.1 in /usr/local/lib/python3.11/dist-packages (from astunparse->diastatic-malt->pennylane) (1.17.0)\n",
            "Downloading PennyLane-0.40.0-py3-none-any.whl (2.0 MB)\n",
            "\u001b[2K   \u001b[90m━━━━━━━━━━━━━━━━━━━━━━━━━━━━━━━━━━━━━━━━\u001b[0m \u001b[32m2.0/2.0 MB\u001b[0m \u001b[31m21.0 MB/s\u001b[0m eta \u001b[36m0:00:00\u001b[0m\n",
            "\u001b[?25hDownloading autoray-0.7.1-py3-none-any.whl (930 kB)\n",
            "\u001b[2K   \u001b[90m━━━━━━━━━━━━━━━━━━━━━━━━━━━━━━━━━━━━━━━━\u001b[0m \u001b[32m930.8/930.8 kB\u001b[0m \u001b[31m25.4 MB/s\u001b[0m eta \u001b[36m0:00:00\u001b[0m\n",
            "\u001b[?25hDownloading PennyLane_Lightning-0.40.0-cp311-cp311-manylinux_2_28_x86_64.whl (2.4 MB)\n",
            "\u001b[2K   \u001b[90m━━━━━━━━━━━━━━━━━━━━━━━━━━━━━━━━━━━━━━━━\u001b[0m \u001b[32m2.4/2.4 MB\u001b[0m \u001b[31m25.4 MB/s\u001b[0m eta \u001b[36m0:00:00\u001b[0m\n",
            "\u001b[?25hDownloading rustworkx-0.16.0-cp39-abi3-manylinux_2_17_x86_64.manylinux2014_x86_64.whl (2.1 MB)\n",
            "\u001b[2K   \u001b[90m━━━━━━━━━━━━━━━━━━━━━━━━━━━━━━━━━━━━━━━━\u001b[0m \u001b[32m2.1/2.1 MB\u001b[0m \u001b[31m35.5 MB/s\u001b[0m eta \u001b[36m0:00:00\u001b[0m\n",
            "\u001b[?25hDownloading appdirs-1.4.4-py2.py3-none-any.whl (9.6 kB)\n",
            "Downloading diastatic_malt-2.15.2-py3-none-any.whl (167 kB)\n",
            "\u001b[2K   \u001b[90m━━━━━━━━━━━━━━━━━━━━━━━━━━━━━━━━━━━━━━━━\u001b[0m \u001b[32m167.9/167.9 kB\u001b[0m \u001b[31m7.8 MB/s\u001b[0m eta \u001b[36m0:00:00\u001b[0m\n",
            "\u001b[?25hDownloading tomlkit-0.13.2-py3-none-any.whl (37 kB)\n",
            "Downloading scipy_openblas32-0.3.29.0.0-py3-none-manylinux_2_17_x86_64.manylinux2014_x86_64.whl (8.6 MB)\n",
            "\u001b[2K   \u001b[90m━━━━━━━━━━━━━━━━━━━━━━━━━━━━━━━━━━━━━━━━\u001b[0m \u001b[32m8.6/8.6 MB\u001b[0m \u001b[31m32.6 MB/s\u001b[0m eta \u001b[36m0:00:00\u001b[0m\n",
            "\u001b[?25hInstalling collected packages: appdirs, tomlkit, scipy-openblas32, rustworkx, autoray, diastatic-malt, pennylane-lightning, pennylane\n",
            "Successfully installed appdirs-1.4.4 autoray-0.7.1 diastatic-malt-2.15.2 pennylane-0.40.0 pennylane-lightning-0.40.0 rustworkx-0.16.0 scipy-openblas32-0.3.29.0.0 tomlkit-0.13.2\n",
            "Collecting pyscf\n",
            "  Downloading pyscf-2.8.0-py3-none-manylinux_2_17_x86_64.manylinux2014_x86_64.whl.metadata (6.4 kB)\n",
            "Requirement already satisfied: numpy!=1.16,!=1.17,>=1.13 in /usr/local/lib/python3.11/dist-packages (from pyscf) (1.26.4)\n",
            "Requirement already satisfied: scipy>=1.6.0 in /usr/local/lib/python3.11/dist-packages (from pyscf) (1.14.1)\n",
            "Requirement already satisfied: h5py>=2.7 in /usr/local/lib/python3.11/dist-packages (from pyscf) (3.12.1)\n",
            "Requirement already satisfied: setuptools in /usr/local/lib/python3.11/dist-packages (from pyscf) (75.1.0)\n",
            "Downloading pyscf-2.8.0-py3-none-manylinux_2_17_x86_64.manylinux2014_x86_64.whl (50.9 MB)\n",
            "\u001b[2K   \u001b[90m━━━━━━━━━━━━━━━━━━━━━━━━━━━━━━━━━━━━━━━━\u001b[0m \u001b[32m50.9/50.9 MB\u001b[0m \u001b[31m12.1 MB/s\u001b[0m eta \u001b[36m0:00:00\u001b[0m\n",
            "\u001b[?25hInstalling collected packages: pyscf\n",
            "Successfully installed pyscf-2.8.0\n"
          ]
        }
      ],
      "source": [
        "!pip install pennylane\n",
        "!pip install pyscf"
      ]
    },
    {
      "cell_type": "markdown",
      "source": [
        "#imports"
      ],
      "metadata": {
        "id": "XVHw_PA2w9US"
      }
    },
    {
      "cell_type": "code",
      "source": [
        "import pennylane as qml\n",
        "from pyscf import gto, scf, tools\n",
        "import numpy as np\n",
        "import matplotlib.pyplot as plt\n",
        "from scipy.signal import argrelextrema"
      ],
      "metadata": {
        "id": "9Z9geWATyqt3"
      },
      "execution_count": null,
      "outputs": []
    },
    {
      "cell_type": "markdown",
      "source": [
        "#User informations"
      ],
      "metadata": {
        "id": "Ey5GAdH7w_VC"
      }
    },
    {
      "cell_type": "code",
      "source": [
        "#modifications that must be made by the user\n",
        "geom = \"\"\"\n",
        "H 0.0  0.0  0.0\n",
        "F 0.99456  0.0  0.0\n",
        "\"\"\"\n",
        "charge = 0\n",
        "mult = 1\n",
        "spin = 0\n",
        "verbose=10\n",
        "basis = \"STO-3G\"\n",
        "Ang2Bohr = 1.8897259886\n",
        "\n",
        "nelec = 10\n",
        "active_space = True\n",
        "active_electrons = 2\n",
        "active_orbitals = 2\n",
        "\n",
        "#HF has 6 atomic orbitals an 10 electrons: 1 unocuped orbital."
      ],
      "metadata": {
        "id": "UcpaL4UJyzml"
      },
      "execution_count": null,
      "outputs": []
    },
    {
      "cell_type": "code",
      "source": [
        "#active_indices = [8, 9, 10, 11]"
      ],
      "metadata": {
        "id": "o38HT990KLe5"
      },
      "execution_count": null,
      "outputs": []
    },
    {
      "cell_type": "markdown",
      "source": [
        "#Functions"
      ],
      "metadata": {
        "id": "WVjPC03OaCTV"
      }
    },
    {
      "cell_type": "code",
      "source": [
        "def C_2nd_quantization_order(Ca, Cb):\n",
        "  N = Ca.shape[0]\n",
        "  M = 2*Ca.shape[1]\n",
        "\n",
        "  C = np.empty((N,M), dtype=Ca.dtype)\n",
        "\n",
        "  C[:,0::2] = Ca\n",
        "  C[:,1::2] = Cb\n",
        "\n",
        "  return C"
      ],
      "metadata": {
        "id": "mtTyl8SdgNLz"
      },
      "execution_count": null,
      "outputs": []
    },
    {
      "cell_type": "code",
      "source": [
        "#Generating the JW transformation matrix\n",
        "\n",
        "CREATION_FERMION_OP_TYPE = 0   #The creation operator 𝑎† is defined as (1/2)*(𝑋−𝑖𝑌).\n",
        "ANNIHILATION_FERMION_OP_TYPE = 1  #The annihilation operator 𝑎 is defined as (1/2)*(𝑋+𝑖𝑌).\n",
        "\n",
        "\n",
        "def pauli_string_fermion_operator(p, op_type):\n",
        "  f = (2*op_type-1)*1j    # When op_type = 0 (creation), f = -i, else f = i\n",
        "\n",
        "  Q_p = 0.5*(qml.PauliX(p) + f * qml.PauliY(p))  #linear combination of the Pauli operators X and Y, with the correct factor to represent the fermion operators\n",
        "\n",
        "  if p == 0:\n",
        "    return Q_p\n",
        "\n",
        "  for i in range(p):\n",
        "    Q_p = qml.PauliZ(i) @ Q_p  # Adds Z operators to preserve fermionic anticommutation rules.\n",
        "\n",
        "  return Q_p\n",
        "\n",
        "\n",
        "def pauli_string_excitation_operator(p, q):\n",
        "  a_dagger_p = pauli_string_fermion_operator(p, CREATION_FERMION_OP_TYPE)\n",
        "  a_q = pauli_string_fermion_operator(q, ANNIHILATION_FERMION_OP_TYPE)\n",
        "  return a_dagger_p @ a_q\n"
      ],
      "metadata": {
        "id": "pLL0KpTjaFfh"
      },
      "execution_count": null,
      "outputs": []
    },
    {
      "cell_type": "code",
      "source": [
        "#The number of qubits here is calculated using all the orbital spins of the molecule, without considering active spaces\n",
        "\n",
        "def build_rdm1_active(qubits, ref_hf, ref_active, active_orbitals):\n",
        "\n",
        "    '''\n",
        "    ref_hf: ON vector obtained with Hartree-Fock\n",
        "    ref_active: ON vector obtained with VQE\n",
        "    '''\n",
        "\n",
        "    active_spin_orbitals = active_orbitals*2\n",
        "    total_spin_orbitals = qubits\n",
        "\n",
        "    #--------------- Indexes in the total system and in the active space----------------------------------------------\n",
        "    #Create a list with the indices of the active spin-orbitals within the complete system.\n",
        "    active_indices = list(range(total_spin_orbitals - active_spin_orbitals, total_spin_orbitals))\n",
        "\n",
        "    #active_indices = active_indices\n",
        "\n",
        "    active_map = {active_indices[i]: i for i in range(active_spin_orbitals)}  #e.g. {4:0, 5:1, 6:2, 7:3}\n",
        "\n",
        "    print(active_indices)\n",
        "    print(active_map)\n",
        "   # Build HF RDM1 (total system)\n",
        "    Xs = [pauli_string_excitation_operator(q, p) for p in range(total_spin_orbitals) for q in range(total_spin_orbitals)]\n",
        "    rdm1_hf = np.array([excitation_operator_expval_hf(ref_hf, X_qp) for X_qp in Xs]).reshape((total_spin_orbitals, total_spin_orbitals))\n",
        "\n",
        "   # Build RDM1 from quantum circuit (active space)\n",
        "    Xs_active = [pauli_string_excitation_operator(active_map[q], active_map[p])\n",
        "                 for p in active_indices for q in active_indices]  # Mapping to active space\n",
        "    rdm1_active = np.array([excitation_operator_expval_active(ref_active, X_qp) for X_qp in Xs_active])\n",
        "    rdm1_active = rdm1_active.reshape((active_spin_orbitals, active_spin_orbitals))\n",
        "\n",
        "    # Update HF RDM1 matrix with active space values\n",
        "    for i, p in enumerate(active_indices):\n",
        "        for j, q in enumerate(active_indices):\n",
        "            rdm1_hf[p, q] = rdm1_active[i, j]\n",
        "\n",
        "    return rdm1_hf"
      ],
      "metadata": {
        "id": "hCfvfgLbaH6t"
      },
      "execution_count": null,
      "outputs": []
    },
    {
      "cell_type": "code",
      "source": [
        "def rdm1_mo2ao(rdm1, C):\n",
        "  return C @ rdm1 @ C.T\n",
        "\n",
        "#rdm1 in atomic orbitals\n",
        "def build_rdm1_ao(qubits, C):\n",
        "  rdm1 = build_rdm1_active(qubits)\n",
        "  return rdm1_mo2ao(rdm1, C)\n",
        "\n",
        "#electron density with pennylane\n",
        "def compute_electron_density_grid(rdm1, ao_vals):\n",
        "  return np.einsum(\"ip,pq,iq->i\", ao_vals, rdm1, ao_vals)"
      ],
      "metadata": {
        "id": "hSmOadx2afOc"
      },
      "execution_count": null,
      "outputs": []
    },
    {
      "cell_type": "code",
      "source": [
        "#grid\n",
        "grid = np.linspace(-3.0, 3.0, 60).reshape(-1, 1)\n",
        "grid = np.hstack([grid, np.zeros((grid.shape[0], 2))])\n",
        "grid = np.array(grid) * Ang2Bohr"
      ],
      "metadata": {
        "id": "97h4SZqTmWBM"
      },
      "execution_count": null,
      "outputs": []
    },
    {
      "cell_type": "markdown",
      "source": [
        "#Pyscf"
      ],
      "metadata": {
        "id": "_8HwPQDVgv-b"
      }
    },
    {
      "cell_type": "code",
      "source": [
        "from pyscf import gto, scf, ci\n",
        "mol = gto.M(atom=geom, basis=basis, charge=charge, spin=spin, verbose=verbose)\n",
        "mf = scf.HF(mol).run()\n",
        "#wf = ci.CISD(mf).run() #\n",
        "#wf.kernel()\n",
        "\n",
        "myhf = mol.HF().run()\n",
        "\n",
        "# For example, to include all electrons in the active space:\n",
        "wf = myhf.CASSCF(2, 2).run()  # 2 orbitals (4 spins orbitais): 2 electrons (1 orbital) - 1 orbital desocupado\n",
        "\n",
        "\n",
        "if isinstance(wf, scf.uhf.UHF):  # Path to UHF Class\n",
        "    Ca, Cb = wf.mo_coeff  # UHF returns two arrays\n",
        "else:\n",
        "    Ca = wf.mo_coeff  # RHF or HF returns a single array\n",
        "    Cb = Ca  # In RHF, the α and β orbitals are the same\n",
        "\n",
        "S = mol.intor(\"int1e_ovlp\")\n",
        "I = Ca.T @ S @ Ca"
      ],
      "metadata": {
        "colab": {
          "base_uri": "https://localhost:8080/"
        },
        "id": "bd3ktk9VzH6D",
        "outputId": "95b270d5-6737-4510-bf59-495299886e36"
      },
      "execution_count": null,
      "outputs": [
        {
          "output_type": "stream",
          "name": "stdout",
          "text": [
            "System: uname_result(system='Linux', node='2aae642a2897', release='6.1.85+', version='#1 SMP PREEMPT_DYNAMIC Thu Jun 27 21:05:47 UTC 2024', machine='x86_64')  Threads 2\n",
            "Python 3.11.11 (main, Dec  4 2024, 08:55:07) [GCC 11.4.0]\n",
            "numpy 1.26.4  scipy 1.14.1  h5py 3.12.1\n",
            "Date: Fri Mar 14 22:12:46 2025\n",
            "PySCF version 2.8.0\n",
            "PySCF path  /usr/local/lib/python3.11/dist-packages/pyscf\n",
            "\n",
            "[CONFIG] ARGPARSE = False\n",
            "[CONFIG] DEBUG = False\n",
            "[CONFIG] MAX_MEMORY = 4000\n",
            "[CONFIG] TMPDIR = /tmp\n",
            "[CONFIG] UNIT = angstrom\n",
            "[CONFIG] VERBOSE = 3\n",
            "[CONFIG] conf_file = None\n",
            "[INPUT] verbose = 10\n",
            "[INPUT] max_memory = 4000 \n",
            "[INPUT] num. atoms = 2\n",
            "[INPUT] num. electrons = 10\n",
            "[INPUT] charge = 0\n",
            "[INPUT] spin (= nelec alpha-beta = 2S) = 0\n",
            "[INPUT] symmetry False subgroup None\n",
            "[INPUT] Mole.unit = angstrom\n",
            "[INPUT] Symbol           X                Y                Z      unit          X                Y                Z       unit  Magmom\n",
            "[INPUT]  1 H      0.000000000000   0.000000000000   0.000000000000 AA    0.000000000000   0.000000000000   0.000000000000 Bohr   0.0\n",
            "[INPUT]  2 F      0.994560000000   0.000000000000   0.000000000000 AA    1.879446014447   0.000000000000   0.000000000000 Bohr   0.0\n",
            "[INPUT] ---------------- BASIS SET ---------------- \n",
            "[INPUT] l, kappa, [nprim/nctr], expnt,             c_1 c_2 ...\n",
            "[INPUT] H\n",
            "[INPUT] 0    0    [3    /1   ]  3.42525091        0.15432897\n",
            "                                0.62391373        0.53532814\n",
            "                                0.1688554         0.44463454\n",
            "[INPUT] F\n",
            "[INPUT] 0    0    [3    /1   ]  166.67913         0.15432897\n",
            "                                30.360812         0.53532814\n",
            "                                8.2168207         0.44463454\n",
            "[INPUT] 0    0    [3    /1   ]  6.4648032         -0.09996723\n",
            "                                1.5022812         0.39951283\n",
            "                                0.4885885         0.70011547\n",
            "[INPUT] 1    0    [3    /1   ]  6.4648032         0.15591627\n",
            "                                1.5022812         0.60768372\n",
            "                                0.4885885         0.39195739\n",
            "\n",
            "nuclear repulsion = 4.7886451277751\n",
            "number of shells = 4\n",
            "number of NR pGTOs = 18\n",
            "number of NR cGTOs = 6\n",
            "basis = STO-3G\n",
            "ecp = {}\n",
            "bas 0, expnt(s) = [3.42525091 0.62391373 0.1688554 ]\n",
            "bas 1, expnt(s) = [166.67913    30.360812    8.2168207]\n",
            "bas 2, expnt(s) = [6.4648032 1.5022812 0.4885885]\n",
            "bas 3, expnt(s) = [6.4648032 1.5022812 0.4885885]\n",
            "CPU time:        59.49\n",
            "arg.atm = [[ 1 20  1 23  0  0]\n",
            " [ 9 24  1 27  0  0]]\n",
            "arg.bas = [[ 0  0  3  1  0 28 31  0]\n",
            " [ 1  0  3  1  0 34 37  0]\n",
            " [ 1  0  3  1  0 40 43  0]\n",
            " [ 1  1  3  1  0 46 49  0]]\n",
            "arg.env = [  0.           0.           0.           0.           0.\n",
            "   0.           0.           0.           0.           0.\n",
            "   0.           0.           0.           0.           0.\n",
            "   0.           0.           0.           0.           0.\n",
            "   0.           0.           0.           0.           1.87944601\n",
            "   0.           0.           0.           3.42525091   0.62391373\n",
            "   0.1688554    0.98170675   0.94946401   0.29590645 166.67913\n",
            "  30.360812     8.2168207   18.0872858   17.49323517   5.45187737\n",
            "   6.4648032    1.5022812    0.4885885   -1.02397454   1.36964866\n",
            "   1.03369431   6.4648032    1.5022812    0.4885885    4.68888914\n",
            "   2.94849933   0.46709186]\n",
            "ecpbas  = []\n",
            "\n",
            "\n",
            "******** <class 'pyscf.scf.hf.RHF'> ********\n",
            "method = RHF\n",
            "initial guess = minao\n",
            "damping factor = 0\n",
            "level_shift factor = 0\n",
            "DIIS = <class 'pyscf.scf.diis.CDIIS'>\n",
            "diis_start_cycle = 1\n",
            "diis_space = 8\n",
            "diis_damp = 0\n",
            "SCF conv_tol = 1e-09\n",
            "SCF conv_tol_grad = None\n",
            "SCF max_cycles = 50\n",
            "direct_scf = True\n",
            "direct_scf_tol = 1e-13\n",
            "chkfile to save SCF result = /tmp/tmprjw6t38w\n",
            "max_memory 4000 MB (current use 420 MB)\n",
            "cond(S) = 3.354398534111413\n",
            "Set gradient conv threshold to 3.16228e-05\n",
            "Initial guess from minao.\n",
            "Nelec from initial guess = 9.817286056833733\n",
            "E1 = -146.7058885608549  E_coul = 43.650883283464815\n",
            "init E= -98.266360149615\n",
            "    CPU time for initialize scf      0.08 sec, wall time      0.06 sec\n",
            "  HOMO = -0.560152918767246  LUMO = 0.329095262344121\n",
            "  mo_energy =\n",
            "[-26.26849323  -1.71239492  -0.73950829  -0.56015292  -0.56015292\n",
            "   0.32909526]\n",
            "E1 = -150.30041140630715  E_coul = 46.99628021871566\n",
            "cycle= 1 E= -98.5154860598164  delta_E= -0.249  |g|= 0.327  |ddm|= 1.18\n",
            "    CPU time for cycle= 1      0.01 sec, wall time      0.01 sec\n",
            "diis-norm(errvec)=0.462091\n",
            "diis-c [-0.21352849  1.        ]\n",
            "  HOMO = -0.331263158522054  LUMO = 0.546842755594985\n",
            "  mo_energy =\n",
            "[-25.66023117  -1.3503925   -0.50528374  -0.33126316  -0.33126316\n",
            "   0.54684276]\n",
            "E1 = -149.1450917539085  E_coul = 45.786079070077655\n",
            "cycle= 2 E= -98.5703675560558  delta_E= -0.0549  |g|= 0.0362  |ddm|= 0.553\n",
            "    CPU time for cycle= 2      0.01 sec, wall time      0.01 sec\n",
            "diis-norm(errvec)=0.0512626\n",
            "diis-c [-0.00113722 -0.09143562  1.09143562]\n",
            "  HOMO = -0.46157653132507  LUMO = 0.552402785808479\n",
            "  mo_energy =\n",
            "[-25.90661046  -1.44894454  -0.56368103  -0.46157653  -0.46157653\n",
            "   0.55240279]\n",
            "E1 = -149.03145915338808  E_coul = 45.6718105146874\n",
            "cycle= 3 E= -98.5710035109256  delta_E= -0.000636  |g|= 0.00501  |ddm|= 0.0684\n",
            "    CPU time for cycle= 3      0.02 sec, wall time      0.02 sec\n",
            "diis-norm(errvec)=0.00708442\n",
            "diis-c [-4.05371086e-06  2.46964227e-02 -2.76368426e-01  1.25167200e+00]\n",
            "  HOMO = -0.462442396824884  LUMO = 0.551759228117035\n",
            "  mo_energy =\n",
            "[-25.90705219  -1.44991675  -0.56142995  -0.4624424   -0.4624424\n",
            "   0.55175923]\n",
            "E1 = -149.032581514487  E_coul = 45.672924792479336\n",
            "cycle= 4 E= -98.5710115942326  delta_E= -8.08e-06  |g|= 0.000187  |ddm|= 0.00726\n",
            "    CPU time for cycle= 4      0.02 sec, wall time      0.01 sec\n",
            "diis-norm(errvec)=0.00026455\n",
            "diis-c [-3.00838447e-10 -9.79935304e-04  6.34668722e-03 -5.47496429e-02\n",
            "  1.04938289e+00]\n",
            "  HOMO = -0.462446869799276  LUMO = 0.552076424080999\n",
            "  mo_energy =\n",
            "[-25.9071114   -1.44996173  -0.56166115  -0.46244687  -0.46244687\n",
            "   0.55207642]\n",
            "E1 = -149.03209254463434  E_coul = 45.67243580640712\n",
            "cycle= 5 E= -98.5710116104521  delta_E= -1.62e-08  |g|= 5.72e-06  |ddm|= 0.000389\n",
            "    CPU time for cycle= 5      0.02 sec, wall time      0.02 sec\n",
            "diis-norm(errvec)=8.0913e-06\n",
            "diis-c [-1.56930059e-16  1.14449866e-06  1.61666850e-04 -8.00194906e-04\n",
            "  4.44249656e-03  9.96194887e-01]\n",
            "  HOMO = -0.462444090064943  LUMO = 0.552064784768838\n",
            "  mo_energy =\n",
            "[-25.90710342  -1.44995832  -0.56164926  -0.46244409  -0.46244409\n",
            "   0.55206478]\n",
            "E1 = -149.03211510992094  E_coul = 45.67245837167832\n",
            "cycle= 6 E= -98.5710116104675  delta_E= -1.54e-11  |g|= 3.04e-08  |ddm|= 1.01e-05\n",
            "    CPU time for cycle= 6      0.02 sec, wall time      0.02 sec\n",
            "  HOMO = -0.462444082665813  LUMO = 0.552064820669269\n",
            "  mo_energy =\n",
            "[-25.90710341  -1.44995832  -0.56164929  -0.46244408  -0.46244408\n",
            "   0.55206482]\n",
            "E1 = -149.03211500282322  E_coul = 45.672458264580605\n",
            "Extra cycle  E= -98.5710116104675  delta_E=    0  |g|= 3.65e-09  |ddm|= 5.15e-08\n",
            "    CPU time for scf_cycle      0.20 sec, wall time      0.17 sec\n",
            "    CPU time for SCF      0.21 sec, wall time      0.18 sec\n",
            "converged SCF energy = -98.5710116104675\n",
            "\n",
            "\n",
            "******** <class 'pyscf.scf.hf.RHF'> ********\n",
            "method = RHF\n",
            "initial guess = minao\n",
            "damping factor = 0\n",
            "level_shift factor = 0\n",
            "DIIS = <class 'pyscf.scf.diis.CDIIS'>\n",
            "diis_start_cycle = 1\n",
            "diis_space = 8\n",
            "diis_damp = 0\n",
            "SCF conv_tol = 1e-09\n",
            "SCF conv_tol_grad = None\n",
            "SCF max_cycles = 50\n",
            "direct_scf = True\n",
            "direct_scf_tol = 1e-13\n",
            "chkfile to save SCF result = /tmp/tmpxijuog80\n",
            "max_memory 4000 MB (current use 420 MB)\n",
            "cond(S) = 3.354398534111413\n",
            "Set gradient conv threshold to 3.16228e-05\n",
            "Initial guess from minao.\n",
            "Nelec from initial guess = 9.817286056833733\n",
            "E1 = -146.7058885608549  E_coul = 43.650883283464815\n",
            "init E= -98.266360149615\n",
            "    CPU time for initialize scf      0.08 sec, wall time      0.07 sec\n",
            "  HOMO = -0.560152918767246  LUMO = 0.329095262344116\n",
            "  mo_energy =\n",
            "[-26.26849323  -1.71239492  -0.73950829  -0.56015292  -0.56015292\n",
            "   0.32909526]\n",
            "E1 = -150.30041140630703  E_coul = 46.99628021871565\n",
            "cycle= 1 E= -98.5154860598163  delta_E= -0.249  |g|= 0.327  |ddm|= 1.18\n",
            "    CPU time for cycle= 1      0.02 sec, wall time      0.01 sec\n",
            "diis-norm(errvec)=0.462091\n",
            "diis-c [-0.21352849  1.        ]\n",
            "  HOMO = -0.331263158522056  LUMO = 0.546842755594982\n",
            "  mo_energy =\n",
            "[-25.66023117  -1.3503925   -0.50528374  -0.33126316  -0.33126316\n",
            "   0.54684276]\n",
            "E1 = -149.1450917539085  E_coul = 45.786079070077655\n",
            "cycle= 2 E= -98.5703675560558  delta_E= -0.0549  |g|= 0.0362  |ddm|= 0.553\n",
            "    CPU time for cycle= 2      0.02 sec, wall time      0.02 sec\n",
            "diis-norm(errvec)=0.0512626\n",
            "diis-c [-0.00113722 -0.09143562  1.09143562]\n",
            "  HOMO = -0.461576531325074  LUMO = 0.552402785808475\n",
            "  mo_energy =\n",
            "[-25.90661046  -1.44894454  -0.56368103  -0.46157653  -0.46157653\n",
            "   0.55240279]\n",
            "E1 = -149.03145915338817  E_coul = 45.67181051468745\n",
            "cycle= 3 E= -98.5710035109256  delta_E= -0.000636  |g|= 0.00501  |ddm|= 0.0684\n",
            "    CPU time for cycle= 3      0.03 sec, wall time      0.02 sec\n",
            "diis-norm(errvec)=0.00708442\n",
            "diis-c [-4.05371086e-06  2.46964227e-02 -2.76368426e-01  1.25167200e+00]\n",
            "  HOMO = -0.462442396824878  LUMO = 0.551759228117041\n",
            "  mo_energy =\n",
            "[-25.90705219  -1.44991675  -0.56142995  -0.4624424   -0.4624424\n",
            "   0.55175923]\n",
            "E1 = -149.03258151448688  E_coul = 45.67292479247929\n",
            "cycle= 4 E= -98.5710115942325  delta_E= -8.08e-06  |g|= 0.000187  |ddm|= 0.00726\n",
            "    CPU time for cycle= 4      0.02 sec, wall time      0.01 sec\n",
            "diis-norm(errvec)=0.00026455\n",
            "diis-c [-3.00838479e-10 -9.79935304e-04  6.34668722e-03 -5.47496429e-02\n",
            "  1.04938289e+00]\n",
            "  HOMO = -0.462446869799277  LUMO = 0.552076424080997\n",
            "  mo_energy =\n",
            "[-25.9071114   -1.44996173  -0.56166115  -0.46244687  -0.46244687\n",
            "   0.55207642]\n",
            "E1 = -149.03209254463437  E_coul = 45.67243580640715\n",
            "cycle= 5 E= -98.5710116104521  delta_E= -1.62e-08  |g|= 5.72e-06  |ddm|= 0.000389\n",
            "    CPU time for cycle= 5      0.02 sec, wall time      0.02 sec\n",
            "diis-norm(errvec)=8.0913e-06\n",
            "diis-c [-1.79986296e-16  1.14458358e-06  1.61666314e-04 -8.00190234e-04\n",
            "  4.44240621e-03  9.96194973e-01]\n",
            "  HOMO = -0.462444090064704  LUMO = 0.552064784767834\n",
            "  mo_energy =\n",
            "[-25.90710342  -1.44995832  -0.56164926  -0.46244409  -0.46244409\n",
            "   0.55206478]\n",
            "E1 = -149.03211510992293  E_coul = 45.67245837168028\n",
            "cycle= 6 E= -98.5710116104676  delta_E= -1.54e-11  |g|= 3.04e-08  |ddm|= 1.01e-05\n",
            "    CPU time for cycle= 6      0.02 sec, wall time      0.02 sec\n",
            "  HOMO = -0.462444082665614  LUMO = 0.552064820669279\n",
            "  mo_energy =\n",
            "[-25.90710341  -1.44995832  -0.56164929  -0.46244408  -0.46244408\n",
            "   0.55206482]\n",
            "E1 = -149.03211500282322  E_coul = 45.672458264580705\n",
            "Extra cycle  E= -98.5710116104674  delta_E= 1.42e-13  |g|= 3.65e-09  |ddm|= 5.15e-08\n",
            "    CPU time for scf_cycle      0.21 sec, wall time      0.19 sec\n",
            "    CPU time for SCF      0.24 sec, wall time      0.21 sec\n",
            "converged SCF energy = -98.5710116104674\n",
            "\n",
            "******** <class 'pyscf.mcscf.mc1step.CASSCF'> ********\n",
            "CAS (1e+1e, 2o), ncore = 4, nvir = 0\n",
            "max_cycle_macro = 50\n",
            "max_cycle_micro = 4\n",
            "conv_tol = 1e-07\n",
            "conv_tol_grad = None\n",
            "orbital rotation max_stepsize = 0.02\n",
            "orbital rotation threshold for CI restart = 0.01\n",
            "augmented hessian ah_max_cycle = 30\n",
            "augmented hessian ah_conv_tol = 1e-12\n",
            "augmented hessian ah_linear dependence = 1e-14\n",
            "augmented hessian ah_level shift = 1e-08\n",
            "augmented hessian ah_start_tol = 2.5\n",
            "augmented hessian ah_start_cycle = 3\n",
            "augmented hessian ah_grad_trust_region = 3\n",
            "kf_trust_region = 3\n",
            "kf_interval = 4\n",
            "ci_response_space = 4\n",
            "ci_grad_trust_region = 3\n",
            "with_dep4 0\n",
            "natorb = False\n",
            "canonicalization = True\n",
            "sorting_mo_energy = False\n",
            "ao2mo_level = 2\n",
            "chkfile = /tmp/tmpxijuog80\n",
            "max_memory 4000 MB (current use 420 MB)\n",
            "internal_rotation = False\n",
            "******** <class 'pyscf.fci.direct_spin1.FCISolver'> ********\n",
            "max. cycles = 50\n",
            "conv_tol = 1e-08\n",
            "davidson only = False\n",
            "linear dependence = 1e-12\n",
            "level shift = 0.001\n",
            "max iter space = 12\n",
            "max_memory 4000 MB\n",
            "nroots = 1\n",
            "pspace_size = 400\n",
            "spin = None\n",
            "Start 1-step CASSCF\n",
            "Start CASCI\n",
            "    CPU time for integral transformation to CAS space      0.00 sec, wall time      0.00 sec\n",
            "core energy = -96.6486097974617\n",
            "    CPU time for effective h1e in CAS space      0.00 sec, wall time      0.00 sec\n",
            "    CPU time for FCI solver      0.01 sec, wall time      0.01 sec\n",
            "CAS space CI energy = -1.92319694593510\n",
            "CASCI E = -98.5718067433968  S^2 = 0.0000000\n",
            "Set conv_tol_grad to 0.000316228\n",
            "    CPU time for Initializing 1-step CASSCF      0.03 sec, wall time      0.02 sec\n",
            "    CPU time for CAS DM      0.00 sec, wall time      0.00 sec\n",
            "    |g|=0.00226\n",
            "    CPU time for gen h_op      0.02 sec, wall time      0.02 sec\n",
            "v[0] [1.000e+00 3.985e-04]\n",
            "AH eigs [-9.004e-07  5.670e+00]\n",
            "CIAH eigen-sel 0\n",
            "... AH step 1  index= 0  |dx|= 0.0042497  eig= -9.0037e-07  v[0]= 1  lindep= 5.1048e-06\n",
            "v[0] [1.000e+00 7.103e-04 1.954e-05]\n",
            "AH eigs [-1.548e-06  3.042e+00  3.380e+01]\n",
            "CIAH eigen-sel 0\n",
            "... AH step 2  index= 0  |dx|= 4.4643e-05  eig= -1.5476e-06  v[0]= 1  lindep= 1.4773e-06\n",
            "v[0] [-1.000e+00  2.621e-04  6.580e-04  1.003e-05]\n",
            "AH eigs [-1.548e-06  1.989e+00  3.248e+00  5.128e+01]\n",
            "CIAH eigen-sel 0\n",
            "... AH step 3  index= 0  |dx|= 5.5097e-17  eig= -1.5482e-06  v[0]= -1  lindep= 1.0808e-06\n",
            "    imic  1( 3)  |g[o]|=1.1e-09  |dxi|=0.000708  max(|x|)=0.00061  |dr|=0.000708  eig=-1.55e-06  seig=1.08e-06\n",
            "    CPU time for orbital rotation      0.06 sec, wall time      0.06 sec\n",
            "CI step by full response\n",
            "tol 5.10482e-07  toloose 0.000714481\n",
            "max_cycle 50  max_space 12  max_memory 3579  incore True\n",
            "    CPU time for contract_2e      0.01 sec, wall time      0.01 sec\n",
            "davidson 0 1  |r|= 6.05e-05  e= [-1.92425473]  max|de|= -1.92  lindep= 0.0834\n",
            "    CPU time for contract_2e      0.01 sec, wall time      0.02 sec\n",
            "root 0 converged  |r|= 5.57e-15  e= -1.924254736497813  max|de|= -3.02e-09\n",
            "converged 1 2  |r|= 5.57e-15  e= [-1.92425474]  max|de|= -3.02e-09\n",
            "    CPU time for update CAS DM      0.08 sec, wall time      0.08 sec\n",
            "micro  1  |u-1|=0.001  |g[o]|=0.00226  |g[c]|=6.05e-05  |ddm|=7.24e-06\n",
            "    CPU time for micro iter  1      0.01 sec, wall time      0.00 sec\n",
            "Active space overlap to initial guess, SVD = [1.         0.99999975]\n",
            "Active space overlap to last step, SVD = [1.         0.99999975]\n",
            "    CPU time for update eri      0.04 sec, wall time      0.05 sec\n",
            "Start CASCI\n",
            "    CPU time for integral transformation to CAS space      0.00 sec, wall time      0.00 sec\n",
            "core energy = -96.6475535582556\n",
            "    CPU time for effective h1e in CAS space      0.00 sec, wall time      0.00 sec\n",
            "tol 1e-08  toloose 0.0001\n",
            "max_cycle 50  max_space 12  max_memory 3579  incore True\n",
            "    CPU time for contract_2e      0.00 sec, wall time      0.00 sec\n",
            "Drop eigenvector 0, norm=1.19e-08\n",
            "davidson 0 1  |r|= 1.19e-08  e= [-1.92425474]  max|de|= -1.92  lindep=    1\n",
            "Linear dependency in trial subspace. |r| for each state [1.18958269e-08]\n",
            "    CPU time for FCI solver      0.01 sec, wall time      0.01 sec\n",
            "CAS space CI energy = -1.92425473619232\n",
            "macro iter   1 (  3 JK    1 micro), CASSCF E = -98.5718082944479  dE = -1.55105116e-06  S^2 = 0.0000000\n",
            "               |grad[o]|=0.00226  |grad[c]|=6.05e-05  |ddm|=7.24e-06  |maxRot[o]|=0.00061\n",
            "    CPU time for CASCI solver      0.04 sec, wall time      0.03 sec\n",
            "    CPU time for macro iter  1      0.22 sec, wall time      0.23 sec\n",
            "    |g|=4.1e-06\n",
            "    CPU time for gen h_op      0.01 sec, wall time      0.01 sec\n",
            "    CPU time for orbital rotation      0.02 sec, wall time      0.02 sec\n",
            "CI step by full response\n",
            "tol 1e-07  toloose 0.000316228\n",
            "max_cycle 50  max_space 12  max_memory 3579  incore True\n",
            "    CPU time for contract_2e      0.01 sec, wall time      0.01 sec\n",
            "Drop eigenvector 0, norm=1.19e-08\n",
            "davidson 0 1  |r|= 1.19e-08  e= [-1.92425474]  max|de|= -1.92  lindep=    1\n",
            "Linear dependency in trial subspace. |r| for each state [1.18958269e-08]\n",
            "    CPU time for update CAS DM      0.03 sec, wall time      0.03 sec\n",
            "micro  1  |u-1|=    0  |g[o]|=4.1e-06  |g[c]|=1.19e-08  |ddm|=    0\n",
            "    CPU time for micro iter  1      0.00 sec, wall time      0.00 sec\n",
            "Active space overlap to initial guess, SVD = [1.         0.99999975]\n",
            "Active space overlap to last step, SVD = [1. 1.]\n",
            "    CPU time for update eri      0.02 sec, wall time      0.02 sec\n",
            "Start CASCI\n",
            "    CPU time for integral transformation to CAS space      0.00 sec, wall time      0.00 sec\n",
            "core energy = -96.6475535582556\n",
            "    CPU time for effective h1e in CAS space      0.00 sec, wall time      0.00 sec\n",
            "tol 1e-08  toloose 0.0001\n",
            "max_cycle 50  max_space 12  max_memory 3579  incore True\n",
            "    CPU time for contract_2e      0.00 sec, wall time      0.00 sec\n",
            "Drop eigenvector 0, norm=1.19e-08\n",
            "davidson 0 1  |r|= 1.19e-08  e= [-1.92425474]  max|de|= -1.92  lindep=    1\n",
            "Linear dependency in trial subspace. |r| for each state [1.18958269e-08]\n",
            "    CPU time for FCI solver      0.01 sec, wall time      0.01 sec\n",
            "CAS space CI energy = -1.92425473619232\n",
            "macro iter   2 (  1 JK    1 micro), CASSCF E = -98.5718082944479  dE =  0.00000000e+00  S^2 = 0.0000000\n",
            "               |grad[o]|=4.1e-06  |grad[c]|=1.19e-08  |ddm|=    0  |maxRot[o]|=    0\n",
            "    CPU time for CASCI solver      0.03 sec, wall time      0.02 sec\n",
            "    CPU time for macro iter  2      0.10 sec, wall time      0.09 sec\n",
            "1-step CASSCF converged in   2 macro (  4 JK   2 micro) steps\n",
            "CASSCF canonicalization\n",
            "Density matrix diagonal elements [1.99868185e+00 1.31814652e-03]\n",
            "i = 1  <i|F|i> = -25.90865274\n",
            "i = 2  <i|F|i> =  -1.45054394\n",
            "i = 3  <i|F|i> =  -0.56211720\n",
            "i = 4  <i|F|i> =  -0.46327671\n",
            "i = 5  <i|F|i> =  -0.46279647\n",
            "i = 6  <i|F|i> =   0.55160686\n",
            "    CPU time for 1-step CASSCF      0.38 sec, wall time      0.36 sec\n",
            "CASSCF energy = -98.5718082944479\n",
            "CASCI E = -98.5718082944479  E(CI) = -1.92425473619232  S^2 = 0.0000000\n"
          ]
        }
      ]
    },
    {
      "cell_type": "code",
      "source": [
        "C = C_2nd_quantization_order(Ca,Cb) # MO coeff. matrix\n",
        "print(C)"
      ],
      "metadata": {
        "colab": {
          "base_uri": "https://localhost:8080/"
        },
        "id": "byqAYhu4GnPh",
        "outputId": "a1384f29-9739-42ab-b6b1-aefb4f6b3e06"
      },
      "execution_count": null,
      "outputs": [
        {
          "output_type": "stream",
          "name": "stdout",
          "text": [
            "[[-0.00492202 -0.00492202  0.14276708  0.14276708 -0.5454949  -0.5454949\n",
            "   0.          0.          0.          0.          1.02137772  1.02137772]\n",
            " [ 0.99479079  0.99479079 -0.25205691 -0.25205691 -0.07398815 -0.07398815\n",
            "   0.          0.          0.          0.          0.07642827  0.07642827]\n",
            " [ 0.02191581  0.02191581  0.95619544  0.95619544  0.38703084  0.38703084\n",
            "   0.          0.          0.          0.         -0.47604167 -0.47604167]\n",
            " [-0.00240361 -0.00240361 -0.06699525 -0.06699525  0.69434291  0.69434291\n",
            "   0.          0.          0.          0.          0.8088332   0.8088332 ]\n",
            " [ 0.          0.          0.          0.          0.          0.\n",
            "   1.          1.          0.          0.          0.          0.        ]\n",
            " [ 0.          0.          0.          0.          0.          0.\n",
            "   0.          0.          1.          1.          0.          0.        ]]\n"
          ]
        }
      ]
    },
    {
      "cell_type": "code",
      "source": [
        "rdm1_pyscf = wf.make_rdm1()\n",
        "print(rdm1_pyscf)\n",
        "\n",
        "\n",
        "#If UHF or RHF is used, it is necessary sum the two matrices:\n",
        "#rdm1_pyscf = np.sum(rdm1_pyscf, axis=0)\n",
        "#print(\"Shape of rdm1_pyscf:\", rdm1_pyscf.shape)"
      ],
      "metadata": {
        "colab": {
          "base_uri": "https://localhost:8080/"
        },
        "id": "sqpHAt_bAwD3",
        "outputId": "b5f24957-04e2-40a1-e99d-fead4ba744a2"
      },
      "execution_count": null,
      "outputs": [
        {
          "output_type": "stream",
          "name": "stdout",
          "text": [
            "[[ 6.37317813e-01 -9.40399837e-04 -1.50076881e-01 -7.75537851e-01\n",
            "   0.00000000e+00  0.00000000e+00]\n",
            " [-9.40399837e-04  2.11723898e+00 -4.95747377e-01 -7.36737535e-02\n",
            "   0.00000000e+00  0.00000000e+00]\n",
            " [-1.50076881e-01 -4.95747377e-01  2.12946450e+00  4.08730235e-01\n",
            "   0.00000000e+00  0.00000000e+00]\n",
            " [-7.75537851e-01 -7.36737535e-02  4.08730235e-01  9.74074775e-01\n",
            "   0.00000000e+00  0.00000000e+00]\n",
            " [ 0.00000000e+00  0.00000000e+00  0.00000000e+00  0.00000000e+00\n",
            "   2.00000000e+00  0.00000000e+00]\n",
            " [ 0.00000000e+00  0.00000000e+00  0.00000000e+00  0.00000000e+00\n",
            "   0.00000000e+00  1.99868185e+00]]\n"
          ]
        }
      ]
    },
    {
      "cell_type": "code",
      "source": [
        "#----------electron density with pyscf----------------\n",
        "\n",
        "#GTOs calculations\n",
        "ao_vals_pyscf = gto.eval_gto(mol, \"GTOval\", grid)\n",
        "\n",
        "#electron density\n",
        "density_grid_pyscf = np.einsum(\"pi,ij,pj->p\", ao_vals_pyscf, rdm1_pyscf, ao_vals_pyscf)\n",
        "print(density_grid_pyscf)"
      ],
      "metadata": {
        "id": "GMPuLlI47fWj",
        "colab": {
          "base_uri": "https://localhost:8080/"
        },
        "outputId": "fd039e22-84e1-4691-f963-54b041a6c01e"
      },
      "execution_count": null,
      "outputs": [
        {
          "output_type": "stream",
          "name": "stdout",
          "text": [
            "[8.58370681e-08 1.76945185e-07 3.55772648e-07 6.97718985e-07\n",
            " 1.33466454e-06 2.49039041e-06 4.53323095e-06 8.05146664e-06\n",
            " 1.39580111e-05 2.36338310e-05 3.91285391e-05 6.34609546e-05\n",
            " 1.01118897e-04 1.58972382e-04 2.48024382e-04 3.86775155e-04\n",
            " 6.07519900e-04 9.67639592e-04 1.56865411e-03 2.58561177e-03\n",
            " 4.30642212e-03 7.17379201e-03 1.18216443e-02 1.91567949e-02\n",
            " 3.07638588e-02 5.02028836e-02 8.50584351e-02 1.45728732e-01\n",
            " 2.32066080e-01 3.14049986e-01 3.49084563e-01 3.36741008e-01\n",
            " 3.24152025e-01 3.57194827e-01 4.56045209e-01 6.19399640e-01\n",
            " 8.29261039e-01 1.14285470e+00 6.53604975e+00 1.75172221e+02\n",
            " 3.74888810e+01 2.31085305e+00 1.30613237e+00 9.34839024e-01\n",
            " 5.80531406e-01 3.21032478e-01 1.62188706e-01 7.79756310e-02\n",
            " 3.70037601e-02 1.75763796e-02 8.28237440e-03 3.79451558e-03\n",
            " 1.65612274e-03 6.78055406e-04 2.57743584e-04 9.03092213e-05\n",
            " 2.89818237e-05 8.45299440e-06 2.21531588e-06 5.12356578e-07]\n"
          ]
        }
      ]
    },
    {
      "cell_type": "markdown",
      "source": [
        "#Pennylane"
      ],
      "metadata": {
        "id": "x8MZdANAf3xU"
      }
    },
    {
      "cell_type": "code",
      "source": [
        "geom_data = geom.split()\n",
        "symbols = tuple(geom_data[4*i] for i in range(len(geom_data)//4))\n",
        "coordinates = tuple(geom_data[4*i+1:4*i+4] for i in range(len(geom_data)//4))\n",
        "coordinates = np.array(coordinates, dtype=float).reshape((-1, 3)) * Ang2Bohr\n",
        "\n",
        "# Set up the molecule object without active space specification\n",
        "qml_mol = qml.qchem.Molecule(symbols, coordinates, charge=charge, mult=mult, basis_name=basis)"
      ],
      "metadata": {
        "id": "RFZiuvCvTEFN"
      },
      "execution_count": null,
      "outputs": []
    },
    {
      "cell_type": "code",
      "source": [
        "# Calculate the Hamiltonian, the hf_state, and the number of qubits whit Hartree-Fock\n",
        "H_complet, qubits = qml.qchem.molecular_hamiltonian(qml_mol)\n",
        "\n",
        "ref_hf = qml.qchem.hf_state(nelec, qubits)"
      ],
      "metadata": {
        "id": "Q-eYLjH5ggmR"
      },
      "execution_count": null,
      "outputs": []
    },
    {
      "cell_type": "code",
      "source": [
        "# Calculate the Hamiltonian, the hf_state, and the number of qubits, specifying the active space\n",
        "H_active, qubits_active = qml.qchem.molecular_hamiltonian(\n",
        "    qml_mol, active_electrons=active_electrons, active_orbitals=active_orbitals)\n",
        "if active_space:\n",
        "    ref_active = qml.qchem.hf_state(active_electrons, qubits_active)\n",
        "else:\n",
        "    ref_active = qml.qchem.hf_state(nelec, qubits_active)"
      ],
      "metadata": {
        "id": "BAzhRtWg5eSA"
      },
      "execution_count": null,
      "outputs": []
    },
    {
      "cell_type": "code",
      "source": [
        "print(ref_hf)\n",
        "print(ref_active)"
      ],
      "metadata": {
        "colab": {
          "base_uri": "https://localhost:8080/"
        },
        "id": "LJIgscs-QnQ5",
        "outputId": "4570378f-1bad-4fd1-aef8-68718db8234f"
      },
      "execution_count": null,
      "outputs": [
        {
          "output_type": "stream",
          "name": "stdout",
          "text": [
            "[1 1 1 1 1 1 1 1 1 1 0 0]\n",
            "[1 1 0 0]\n"
          ]
        }
      ]
    },
    {
      "cell_type": "code",
      "source": [
        "dev = qml.device(\"default.qubit\", wires=list(range(qubits)))"
      ],
      "metadata": {
        "id": "ghAbsFHajBUW"
      },
      "execution_count": null,
      "outputs": []
    },
    {
      "cell_type": "code",
      "source": [
        "#X_pq whit HF state\n",
        "\n",
        "@qml.qnode(dev)\n",
        "def excitation_operator_expval_hf(ref_hf, X_pq):\n",
        "  qml.BasisState(ref_hf, wires=range(qubits))\n",
        "  return qml.expval(X_pq)"
      ],
      "metadata": {
        "id": "Cr7MPAwGTMhj"
      },
      "execution_count": null,
      "outputs": []
    },
    {
      "cell_type": "code",
      "source": [
        "#X_pq with VQE\n",
        "\n",
        "loaded_params = np.load(\"final_params_HF.npy\")\n",
        "expected_shape = qml.GateFabric.shape(n_layers=5, n_wires=qubits_active)\n",
        "@qml.qnode(dev)\n",
        "def excitation_operator_expval_active(ref_active, X_pq_active):\n",
        "    qml.GateFabric(loaded_params, wires=list(range(qubits_active)), init_state=ref_active, include_pi=True)\n",
        "    return qml.expval(X_pq_active)"
      ],
      "metadata": {
        "id": "_YbKO9nxWC_b"
      },
      "execution_count": null,
      "outputs": []
    },
    {
      "cell_type": "code",
      "source": [
        "rdm1 = build_rdm1_active(qubits=qubits, ref_hf=ref_hf, ref_active=ref_active, active_orbitals=active_orbitals) #active_indices=active_indices)\n",
        "print(\"RDM1 with VQE:\")\n",
        "print(rdm1)"
      ],
      "metadata": {
        "id": "l2xZhwuURuAK",
        "colab": {
          "base_uri": "https://localhost:8080/"
        },
        "outputId": "65f8e32b-46b6-4bf3-df44-cdd2f32b8854"
      },
      "execution_count": null,
      "outputs": [
        {
          "output_type": "stream",
          "name": "stdout",
          "text": [
            "[8, 9, 10, 11]\n",
            "{8: 0, 9: 1, 10: 2, 11: 3}\n",
            "RDM1 with VQE:\n",
            "[[1.00000000e+00 0.00000000e+00 0.00000000e+00 0.00000000e+00\n",
            "  0.00000000e+00 0.00000000e+00 0.00000000e+00 0.00000000e+00\n",
            "  0.00000000e+00 0.00000000e+00 0.00000000e+00 0.00000000e+00]\n",
            " [0.00000000e+00 1.00000000e+00 0.00000000e+00 0.00000000e+00\n",
            "  0.00000000e+00 0.00000000e+00 0.00000000e+00 0.00000000e+00\n",
            "  0.00000000e+00 0.00000000e+00 0.00000000e+00 0.00000000e+00]\n",
            " [0.00000000e+00 0.00000000e+00 1.00000000e+00 0.00000000e+00\n",
            "  0.00000000e+00 0.00000000e+00 0.00000000e+00 0.00000000e+00\n",
            "  0.00000000e+00 0.00000000e+00 0.00000000e+00 0.00000000e+00]\n",
            " [0.00000000e+00 0.00000000e+00 0.00000000e+00 1.00000000e+00\n",
            "  0.00000000e+00 0.00000000e+00 0.00000000e+00 0.00000000e+00\n",
            "  0.00000000e+00 0.00000000e+00 0.00000000e+00 0.00000000e+00]\n",
            " [0.00000000e+00 0.00000000e+00 0.00000000e+00 0.00000000e+00\n",
            "  1.00000000e+00 0.00000000e+00 0.00000000e+00 0.00000000e+00\n",
            "  0.00000000e+00 0.00000000e+00 0.00000000e+00 0.00000000e+00]\n",
            " [0.00000000e+00 0.00000000e+00 0.00000000e+00 0.00000000e+00\n",
            "  0.00000000e+00 1.00000000e+00 0.00000000e+00 0.00000000e+00\n",
            "  0.00000000e+00 0.00000000e+00 0.00000000e+00 0.00000000e+00]\n",
            " [0.00000000e+00 0.00000000e+00 0.00000000e+00 0.00000000e+00\n",
            "  0.00000000e+00 0.00000000e+00 1.00000000e+00 0.00000000e+00\n",
            "  0.00000000e+00 0.00000000e+00 0.00000000e+00 0.00000000e+00]\n",
            " [0.00000000e+00 0.00000000e+00 0.00000000e+00 0.00000000e+00\n",
            "  0.00000000e+00 0.00000000e+00 0.00000000e+00 1.00000000e+00\n",
            "  0.00000000e+00 0.00000000e+00 0.00000000e+00 0.00000000e+00]\n",
            " [0.00000000e+00 0.00000000e+00 0.00000000e+00 0.00000000e+00\n",
            "  0.00000000e+00 0.00000000e+00 0.00000000e+00 0.00000000e+00\n",
            "  9.99280318e-01 0.00000000e+00 0.00000000e+00 0.00000000e+00]\n",
            " [0.00000000e+00 0.00000000e+00 0.00000000e+00 0.00000000e+00\n",
            "  0.00000000e+00 0.00000000e+00 0.00000000e+00 0.00000000e+00\n",
            "  0.00000000e+00 9.99280318e-01 0.00000000e+00 0.00000000e+00]\n",
            " [0.00000000e+00 0.00000000e+00 0.00000000e+00 0.00000000e+00\n",
            "  0.00000000e+00 0.00000000e+00 0.00000000e+00 0.00000000e+00\n",
            "  0.00000000e+00 0.00000000e+00 7.19681995e-04 0.00000000e+00]\n",
            " [0.00000000e+00 0.00000000e+00 0.00000000e+00 0.00000000e+00\n",
            "  0.00000000e+00 0.00000000e+00 0.00000000e+00 0.00000000e+00\n",
            "  0.00000000e+00 0.00000000e+00 0.00000000e+00 7.19681995e-04]]\n"
          ]
        }
      ]
    },
    {
      "cell_type": "code",
      "source": [
        "@qml.qnode(dev)\n",
        "def excitation_operator_expval_active(ref_active, H_active):\n",
        "    qml.GateFabric(loaded_params, wires=list(range(qubits_active)), init_state=ref_active, include_pi=True)\n",
        "    return qml.expval(H_active)"
      ],
      "metadata": {
        "id": "uyWFyIApyN4m"
      },
      "execution_count": null,
      "outputs": []
    },
    {
      "cell_type": "code",
      "source": [
        "H_matrix = qml.matrix(H_active, wire_order=list(range(qubits_active)))\n",
        "\n",
        "# Calcula os autovalores\n",
        "eigvals = np.linalg.eigvalsh(H_matrix)\n",
        "\n",
        "# Energia fundamental (menor autovalor)\n",
        "E_ground = np.min(eigvals)\n",
        "print(f\"Energia fundamental: {E_ground}\")"
      ],
      "metadata": {
        "colab": {
          "base_uri": "https://localhost:8080/"
        },
        "id": "jBVBm61UyPkx",
        "outputId": "12214b05-767f-4aef-e715-50bdfa7f7fb9"
      },
      "execution_count": null,
      "outputs": [
        {
          "output_type": "stream",
          "name": "stdout",
          "text": [
            "Energia fundamental: -98.57180682721224\n"
          ]
        }
      ]
    },
    {
      "cell_type": "code",
      "source": [
        "rdm1_ao = rdm1_mo2ao(rdm1, C) #convert to AO basis\n",
        "print('rdm1 in atomic orbitals')\n",
        "print(rdm1_ao)"
      ],
      "metadata": {
        "id": "bVRM_2TBAKlh",
        "colab": {
          "base_uri": "https://localhost:8080/"
        },
        "outputId": "e3546859-5e02-4eb5-aa7b-c12760c68857"
      },
      "execution_count": null,
      "outputs": [
        {
          "output_type": "stream",
          "name": "stdout",
          "text": [
            "rdm1 in atomic orbitals\n",
            "[[ 6.37444269e-01 -9.30937343e-04 -1.50135819e-01 -7.75437710e-01\n",
            "   0.00000000e+00  0.00000000e+00]\n",
            " [-9.30937343e-04  2.11723969e+00 -4.95751787e-01 -7.36662601e-02\n",
            "   0.00000000e+00  0.00000000e+00]\n",
            " [-1.50135819e-01 -4.95751787e-01  2.12949197e+00  4.08683562e-01\n",
            "   0.00000000e+00  0.00000000e+00]\n",
            " [-7.75437710e-01 -7.36662601e-02  4.08683562e-01  9.74154077e-01\n",
            "   0.00000000e+00  0.00000000e+00]\n",
            " [ 0.00000000e+00  0.00000000e+00  0.00000000e+00  0.00000000e+00\n",
            "   2.00000000e+00  0.00000000e+00]\n",
            " [ 0.00000000e+00  0.00000000e+00  0.00000000e+00  0.00000000e+00\n",
            "   0.00000000e+00  1.99856064e+00]]\n"
          ]
        }
      ]
    },
    {
      "cell_type": "code",
      "source": [
        "density_grid = compute_electron_density_grid(rdm1_ao, ao_vals_pyscf)\n",
        "print(density_grid)"
      ],
      "metadata": {
        "id": "uiiRY-RRmeZ6",
        "colab": {
          "base_uri": "https://localhost:8080/"
        },
        "outputId": "42919a15-e48b-478d-c36b-5713ae46c056"
      },
      "execution_count": null,
      "outputs": [
        {
          "output_type": "stream",
          "name": "stdout",
          "text": [
            "[8.58540998e-08 1.76980294e-07 3.55843240e-07 6.97857425e-07\n",
            " 1.33492936e-06 2.49088455e-06 4.53413042e-06 8.05306418e-06\n",
            " 1.39607806e-05 2.36385201e-05 3.91363019e-05 6.34735430e-05\n",
            " 1.01138949e-04 1.59003888e-04 2.48073483e-04 3.86851569e-04\n",
            " 6.07639508e-04 9.67829021e-04 1.56895850e-03 2.58610708e-03\n",
            " 4.30723229e-03 7.17510904e-03 1.18237459e-02 1.91600630e-02\n",
            " 3.07688505e-02 5.02105940e-02 8.50708359e-02 1.45748977e-01\n",
            " 2.32096386e-01 3.14086562e-01 3.49116487e-01 3.36759035e-01\n",
            " 3.24156810e-01 3.57194841e-01 4.56051175e-01 6.19421671e-01\n",
            " 8.29307645e-01 1.14292379e+00 6.53609138e+00 1.75172243e+02\n",
            " 3.74889255e+01 2.31089369e+00 1.30616103e+00 9.34856787e-01\n",
            " 5.80542828e-01 3.21039178e-01 1.62192131e-01 7.79772491e-02\n",
            " 3.70045255e-02 1.75767597e-02 8.28257177e-03 3.79461894e-03\n",
            " 1.65617531e-03 6.78080741e-04 2.57755040e-04 9.03140764e-05\n",
            " 2.89837605e-05 8.45372724e-06 2.21558152e-06 5.12449913e-07]\n"
          ]
        }
      ]
    },
    {
      "cell_type": "markdown",
      "source": [
        "#Electron density"
      ],
      "metadata": {
        "id": "74A5e9jGjOlM"
      }
    },
    {
      "cell_type": "code",
      "source": [
        "print('pyscf')\n",
        "print(rdm1_pyscf)\n",
        "\n",
        "print('pennylane')\n",
        "print(rdm1_ao)"
      ],
      "metadata": {
        "id": "0W0v8ixQbNd7",
        "colab": {
          "base_uri": "https://localhost:8080/"
        },
        "outputId": "8c84aff4-dc78-41a2-cee6-a30810d155d6"
      },
      "execution_count": null,
      "outputs": [
        {
          "output_type": "stream",
          "name": "stdout",
          "text": [
            "pyscf\n",
            "[[ 6.37317813e-01 -9.40399837e-04 -1.50076881e-01 -7.75537851e-01\n",
            "   0.00000000e+00  0.00000000e+00]\n",
            " [-9.40399837e-04  2.11723898e+00 -4.95747377e-01 -7.36737535e-02\n",
            "   0.00000000e+00  0.00000000e+00]\n",
            " [-1.50076881e-01 -4.95747377e-01  2.12946450e+00  4.08730235e-01\n",
            "   0.00000000e+00  0.00000000e+00]\n",
            " [-7.75537851e-01 -7.36737535e-02  4.08730235e-01  9.74074775e-01\n",
            "   0.00000000e+00  0.00000000e+00]\n",
            " [ 0.00000000e+00  0.00000000e+00  0.00000000e+00  0.00000000e+00\n",
            "   2.00000000e+00  0.00000000e+00]\n",
            " [ 0.00000000e+00  0.00000000e+00  0.00000000e+00  0.00000000e+00\n",
            "   0.00000000e+00  1.99868185e+00]]\n",
            "pennylane\n",
            "[[ 6.37444269e-01 -9.30937343e-04 -1.50135819e-01 -7.75437710e-01\n",
            "   0.00000000e+00  0.00000000e+00]\n",
            " [-9.30937343e-04  2.11723969e+00 -4.95751787e-01 -7.36662601e-02\n",
            "   0.00000000e+00  0.00000000e+00]\n",
            " [-1.50135819e-01 -4.95751787e-01  2.12949197e+00  4.08683562e-01\n",
            "   0.00000000e+00  0.00000000e+00]\n",
            " [-7.75437710e-01 -7.36662601e-02  4.08683562e-01  9.74154077e-01\n",
            "   0.00000000e+00  0.00000000e+00]\n",
            " [ 0.00000000e+00  0.00000000e+00  0.00000000e+00  0.00000000e+00\n",
            "   2.00000000e+00  0.00000000e+00]\n",
            " [ 0.00000000e+00  0.00000000e+00  0.00000000e+00  0.00000000e+00\n",
            "   0.00000000e+00  1.99856064e+00]]\n"
          ]
        }
      ]
    },
    {
      "cell_type": "code",
      "source": [
        "#Differences between electron density with pyscf and pennylane\n",
        "difference = density_grid - density_grid_pyscf\n",
        "print(difference)"
      ],
      "metadata": {
        "id": "1-rqS-7BC3iW",
        "colab": {
          "base_uri": "https://localhost:8080/"
        },
        "outputId": "ad39ac54-803a-4ee8-fdf1-0938939bf379"
      },
      "execution_count": null,
      "outputs": [
        {
          "output_type": "stream",
          "name": "stdout",
          "text": [
            "[1.70316528e-11 3.51091776e-11 7.05918288e-11 1.38440238e-10\n",
            " 2.64821788e-10 4.94138307e-10 8.99472165e-10 1.59754120e-09\n",
            " 2.76945428e-09 4.68911169e-09 7.76281853e-09 1.25883309e-08\n",
            " 2.00522586e-08 3.15062121e-08 4.91002986e-08 7.64136780e-08\n",
            " 1.19608336e-07 1.89428430e-07 3.04397191e-07 4.95308531e-07\n",
            " 8.10175606e-07 1.31702871e-06 2.10159433e-06 3.26812650e-06\n",
            " 4.99170371e-06 7.71044083e-06 1.24008734e-05 2.02455287e-05\n",
            " 3.03062392e-05 3.65761268e-05 3.19238380e-05 1.80266441e-05\n",
            " 4.78499295e-06 1.37498258e-08 5.96566649e-06 2.20304655e-05\n",
            " 4.66060974e-05 6.90912001e-05 4.16246593e-05 2.20906209e-05\n",
            " 4.44526725e-05 4.06430959e-05 2.86615158e-05 1.77635351e-05\n",
            " 1.14212710e-05 6.70049402e-06 3.42479483e-06 1.61803618e-06\n",
            " 7.65367441e-07 3.80073056e-07 1.97368928e-07 1.03363232e-07\n",
            " 5.25631181e-08 2.53352755e-08 1.14562482e-08 4.85508953e-09\n",
            " 1.93680227e-09 7.32841792e-10 2.65636601e-10 9.33353569e-11]\n"
          ]
        }
      ]
    },
    {
      "cell_type": "code",
      "source": [
        "difference = rdm1_ao - rdm1_pyscf\n",
        "print(difference)"
      ],
      "metadata": {
        "id": "ql9Vzhl9zEg7",
        "outputId": "930abdf3-88b2-4e51-b816-206dc20f9316",
        "colab": {
          "base_uri": "https://localhost:8080/"
        }
      },
      "execution_count": null,
      "outputs": [
        {
          "output_type": "stream",
          "name": "stdout",
          "text": [
            "[[ 1.26455576e-04  9.46249391e-06 -5.89381602e-05  1.00140688e-04\n",
            "   0.00000000e+00  0.00000000e+00]\n",
            " [ 9.46249391e-06  7.08065186e-07 -4.41026010e-06  7.49338765e-06\n",
            "   0.00000000e+00  0.00000000e+00]\n",
            " [-5.89381602e-05 -4.41026010e-06  2.74697790e-05 -4.66733702e-05\n",
            "   0.00000000e+00  0.00000000e+00]\n",
            " [ 1.00140688e-04  7.49338765e-06 -4.66733702e-05  7.93018207e-05\n",
            "   0.00000000e+00  0.00000000e+00]\n",
            " [ 0.00000000e+00  0.00000000e+00  0.00000000e+00  0.00000000e+00\n",
            "   0.00000000e+00  0.00000000e+00]\n",
            " [ 0.00000000e+00  0.00000000e+00  0.00000000e+00  0.00000000e+00\n",
            "   0.00000000e+00 -1.21217473e-04]]\n"
          ]
        }
      ]
    },
    {
      "cell_type": "code",
      "source": [
        "import matplotlib.pyplot as plt\n",
        "\n",
        "plt.plot(grid[:, 0] / Ang2Bohr, density_grid, label=\"PennyLane\")\n",
        "plt.plot(grid[:, 0] / Ang2Bohr, density_grid_pyscf, label=\"PySCF\", linestyle=\"dashed\")\n",
        "plt.xlim(-0.5, 1.3)\n",
        "#plt.yscale(\"log\")\n",
        "plt.xlabel(\"Distance (Å)\")\n",
        "plt.ylabel(\"Electron density\")\n",
        "plt.legend()\n",
        "plt.show()\n",
        "\n"
      ],
      "metadata": {
        "id": "eLu_gtFpjP7v",
        "colab": {
          "base_uri": "https://localhost:8080/",
          "height": 450
        },
        "outputId": "9864a437-f397-4290-de52-79ef63d7cb7f"
      },
      "execution_count": null,
      "outputs": [
        {
          "output_type": "display_data",
          "data": {
            "text/plain": [
              "<Figure size 640x480 with 1 Axes>"
            ],
            "image/png": "[encoded data removed]"
          },
          "metadata": {}
        }
      ]
    },
    {
      "cell_type": "markdown",
      "source": [
        "##Maximum and Minimum values\n",
        "Bond-critical points (BCP) Is the minimun value"
      ],
      "metadata": {
        "id": "ufu6VBvWkyCQ"
      }
    },
    {
      "cell_type": "code",
      "source": [
        "#----------------- PySCF ---------------------------------------------------------\n",
        "\n",
        "maxima_pyscf = argrelextrema(density_grid_pyscf, np.greater)[0]\n",
        "minima_pyscf = argrelextrema(density_grid_pyscf, np.less)[0]\n",
        "\n",
        "#----------------- PennyLane -----------------------------------------------------\n",
        "\n",
        "maxima_pennylane = argrelextrema(density_grid, np.greater)[0]\n",
        "minima_pennylane = argrelextrema(density_grid, np.less)[0]\n",
        "\n",
        "#----------------- Graphs --------------------------------------\n",
        "x_pyscf = np.linspace(-2, 2, len(density_grid_pyscf))\n",
        "x_pennylane = np.linspace(-2, 2, len(density_grid))\n",
        "\n",
        "\n",
        "def print_critical_points_pyscf(label, x_values, density_values):\n",
        "    for idx in x_values:\n",
        "        print(f\"{label} at x = {x_pyscf[idx]:.3f} Å with density {density_values[idx]:.3f}\")\n",
        "\n",
        "\n",
        "def print_critical_points_pennylane(label, x_values, density_values):\n",
        "    for idx in x_values:\n",
        "        print(f\"{label} at x = {x_pennylane[idx]:.3f} Å with density {density_values[idx]:.3f}\")\n",
        "\n",
        "print(\"PySCF Critical Points:\")\n",
        "print_critical_points_pyscf(\"Local maximum\", maxima_pyscf, density_grid_pyscf)\n",
        "print_critical_points_pyscf(\"Local minimum\", minima_pyscf, density_grid_pyscf)\n",
        "\n",
        "print(\"\\nPennyLane Critical Points:\")\n",
        "print_critical_points_pennylane(\"Local maximum\", maxima_pennylane, density_grid)\n",
        "print_critical_points_pennylane(\"Local minimum\", minima_pennylane, density_grid)\n"
      ],
      "metadata": {
        "id": "YknJI4VlsSrN",
        "colab": {
          "base_uri": "https://localhost:8080/"
        },
        "outputId": "700d6cd0-9500-41e5-a529-8bcb0600cc17"
      },
      "execution_count": null,
      "outputs": [
        {
          "output_type": "stream",
          "name": "stdout",
          "text": [
            "PySCF Critical Points:\n",
            "Local maximum at x = 0.034 Å with density 0.349\n",
            "Local maximum at x = 0.644 Å with density 175.172\n",
            "Local minimum at x = 0.169 Å with density 0.324\n",
            "\n",
            "PennyLane Critical Points:\n",
            "Local maximum at x = 0.034 Å with density 0.349\n",
            "Local maximum at x = 0.644 Å with density 175.172\n",
            "Local minimum at x = 0.169 Å with density 0.324\n"
          ]
        }
      ]
    },
    {
      "cell_type": "markdown",
      "source": [
        "##Laplacian"
      ],
      "metadata": {
        "id": "h9JFLf8Toqk1"
      }
    },
    {
      "cell_type": "markdown",
      "source": [
        "Laplacian of a 1D (density) function using the finite difference formula:\n",
        "\n",
        "\n",
        "![image.png](data:image/png;base64,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)\n"
      ],
      "metadata": {
        "id": "nIpq_I8Lv4Xs"
      }
    },
    {
      "cell_type": "code",
      "source": [
        "import numpy as np\n",
        "import matplotlib.pyplot as plt\n",
        "from scipy.signal import argrelextrema\n",
        "\n",
        "# Function to calculate the Laplacian (second derivative)\n",
        "\n",
        "def laplacian_1d(rho_data, dx):\n",
        "    laplacian_data = np.zeros_like(rho_data)\n",
        "\n",
        "    # Calculate the second derivative in 1D using finite differences\n",
        "    for i in range(1, len(rho_data) - 1):  #Avoid the edges\n",
        "        laplacian_data[i] = (rho_data[i+1] - 2 * rho_data[i] + rho_data[i-1]) / dx**2\n",
        "\n",
        "    return laplacian_data\n",
        "\n",
        "#----------------- PySCF ---------------------------------------------------------\n",
        "# Ensures that x has the same size as the density\n",
        "x_pyscf = np.linspace(-2, 2, len(density_grid_pyscf))\n",
        "# Calculate the electron density laplacian for PySCF\n",
        "dx = x_pyscf[1] - x_pyscf[0]  # Considering the spacing between the points of x\n",
        "laplacian_pyscf = laplacian_1d(density_grid_pyscf, dx)\n",
        "\n",
        "# Find local maxima and minima\n",
        "maxima_pyscf = argrelextrema(density_grid_pyscf, np.greater)[0]\n",
        "minima_pyscf = argrelextrema(density_grid_pyscf, np.less)[0]\n",
        "\n",
        "#----------------- PennyLane -----------------------------------------------------\n",
        "\n",
        "\n",
        "x_pennylane = np.linspace(-2, 2, len(density_grid))\n",
        "\n",
        "dx_pennylane = x_pennylane[1] - x_pennylane[0]\n",
        "laplacian_pennylane = laplacian_1d(density_grid, dx_pennylane)\n",
        "maxima_pennylane = argrelextrema(density_grid, np.greater)[0]\n",
        "minima_pennylane = argrelextrema(density_grid, np.less)[0]\n",
        "\n",
        "#----------------- Printing the Laplacian at Critical Points -------------------\n",
        "\n",
        "print(\"\\nLaplacian at Critical Points for PySCF Electron Density:\")\n",
        "\n",
        "print(\"\\nPySCF Local Maxima Laplacian:\")\n",
        "for i in maxima_pyscf:\n",
        "    print(f\"x = {x_pyscf[i]:.3f} Å: Laplacian = {laplacian_pyscf[i]:.5f}\")\n",
        "\n",
        "print(\"\\nPySCF Local Minima Laplacian:\")\n",
        "for i in minima_pyscf:\n",
        "    print(f\"x = {x_pyscf[i]:.3f} Å: Laplacian = {laplacian_pyscf[i]:5f}\")\n",
        "\n",
        "\n",
        "print(\"\\nLaplacian at Critical Points for PennyLane Electron Density:\")\n",
        "\n",
        "print(\"\\nPennylane Local Maxima Laplacian:\")\n",
        "for i in maxima_pennylane:\n",
        "    print(f\"x = {x_pennylane[i]:.3f} Å: Laplacian = {laplacian_pennylane[i]:.5f}\")\n",
        "\n",
        "print(\"\\nPennylane Local Minima Laplacian:\")\n",
        "for i in minima_pennylane:\n",
        "    print(f\"x = {x_pyscf[i]:.3f} Å: Laplacian = {laplacian_pennylane[i]:5f}\")\n",
        "\n",
        "\n",
        "\n",
        "#----------------- Differences between Laplacians and Δρ at Critical Points ------------------\n",
        "\n",
        "print(\"\\nDifferences between PySCF and PennyLane Laplacian at Critical Points:\")\n",
        "\n",
        "# Differences in local maxima\n",
        "print(\"\\nDifferences at Local Maxima:\")\n",
        "for i, max_pyscf in enumerate(maxima_pyscf):\n",
        "    if i < len(maxima_pennylane):\n",
        "        x_diff = abs(x_pyscf[max_pyscf] - x_pennylane[maxima_pennylane[i]])\n",
        "        laplacian_diff = abs(laplacian_pyscf[max_pyscf] - laplacian_pennylane[maxima_pennylane[i]])\n",
        "        rho_diff = abs(density_grid_pyscf[max_pyscf] - density_grid[maxima_pennylane[i]])\n",
        "        print(f\"Max Diff at x = {x_pyscf[max_pyscf]:.5f} Å: Δx = {x_diff:.5f} Å, ΔLaplacian = {laplacian_diff:.5f}, Δρ = {rho_diff:.5f}\")\n",
        "\n",
        "# Differences in local minima\n",
        "print(\"\\nDifferences at Local Minima:\")\n",
        "for i, min_pyscf in enumerate(minima_pyscf):\n",
        "    if i < len(minima_pennylane):\n",
        "        x_diff = abs(x_pyscf[min_pyscf] - x_pennylane[minima_pennylane[i]])\n",
        "        laplacian_diff = abs(laplacian_pyscf[min_pyscf] - laplacian_pennylane[minima_pennylane[i]])\n",
        "        rho_diff = abs(density_grid_pyscf[min_pyscf] - density_grid[minima_pennylane[i]])\n",
        "        print(f\"Min Diff at x = {x_pyscf[min_pyscf]:.5f} Å: Δx = {x_diff:.5f} Å, ΔLaplacian = {laplacian_diff:.5f}, Δρ = {rho_diff:.5f}\")"
      ],
      "metadata": {
        "id": "KZoSk2o3tCas",
        "colab": {
          "base_uri": "https://localhost:8080/"
        },
        "outputId": "8a751e25-165d-418c-963c-6e9537aca2e4"
      },
      "execution_count": null,
      "outputs": [
        {
          "output_type": "stream",
          "name": "stdout",
          "text": [
            "\n",
            "Laplacian at Critical Points for PySCF Electron Density:\n",
            "\n",
            "PySCF Local Maxima Laplacian:\n",
            "x = 0.034 Å: Laplacian = -10.30770\n",
            "x = 0.644 Å: Laplacian = -66643.63855\n",
            "\n",
            "PySCF Local Minima Laplacian:\n",
            "x = 0.169 Å: Laplacian = 9.927765\n",
            "\n",
            "Laplacian at Critical Points for PennyLane Electron Density:\n",
            "\n",
            "Pennylane Local Maxima Laplacian:\n",
            "x = 0.034 Å: Laplacian = -10.30972\n",
            "x = 0.644 Å: Laplacian = -66643.62944\n",
            "\n",
            "Pennylane Local Minima Laplacian:\n",
            "x = 0.169 Å: Laplacian = 9.929608\n",
            "\n",
            "Differences between PySCF and PennyLane Laplacian at Critical Points:\n",
            "\n",
            "Differences at Local Maxima:\n",
            "Max Diff at x = 0.03390 Å: Δx = 0.00000 Å, ΔLaplacian = 0.00201, Δρ = 0.00003\n",
            "Max Diff at x = 0.64407 Å: Δx = 0.00000 Å, ΔLaplacian = 0.00912, Δρ = 0.00002\n",
            "\n",
            "Differences at Local Minima:\n",
            "Min Diff at x = 0.16949 Å: Δx = 0.00000 Å, ΔLaplacian = 0.00184, Δρ = 0.00000\n"
          ]
        }
      ]
    },
    {
      "cell_type": "markdown",
      "source": [
        "#Dipole moment"
      ],
      "metadata": {
        "id": "O2XVUab5s8cW"
      }
    },
    {
      "cell_type": "code",
      "source": [
        "from pyscf.scf.hf import dip_moment\n",
        "\n",
        "print('Pyscf')\n",
        "dipole_moment_pyscf = dip_moment(mol, rdm1_pyscf)\n",
        "\n",
        "print('Pennylane')\n",
        "dipole_moment_pennylane = dip_moment(mol, rdm1_ao)\n",
        "\n",
        "print('diferrence: pennylane - pyscf')\n",
        "difference_dipole = dipole_moment_pennylane - dipole_moment_pyscf\n",
        "print(difference_dipole)"
      ],
      "metadata": {
        "id": "lxoNsEuUyIVY",
        "colab": {
          "base_uri": "https://localhost:8080/"
        },
        "outputId": "d11f41eb-cc26-4c14-bd76-a6ed559458e0"
      },
      "execution_count": null,
      "outputs": [
        {
          "output_type": "stream",
          "name": "stdout",
          "text": [
            "Pyscf\n",
            "Dipole moment(X, Y, Z, Debye): -1.20800,  0.00000,  0.00000\n",
            "Pennylane\n",
            "Dipole moment(X, Y, Z, Debye): -1.20759,  0.00000,  0.00000\n",
            "diferrence: pennylane - pyscf\n",
            "[0.00040783 0.         0.        ]\n"
          ]
        }
      ]
    },
    {
      "cell_type": "markdown",
      "source": [
        "#Mulliken pop"
      ],
      "metadata": {
        "id": "myKq2RO_yS0K"
      }
    },
    {
      "cell_type": "code",
      "source": [
        "from pyscf.scf.hf import mulliken_pop\n",
        "\n",
        "print('Pyscf')\n",
        "mulliken_pop_pyscf = mulliken_pop(mol, rdm1_pyscf)\n",
        "\n",
        "print('Pennylane')\n",
        "mulliken_pop_pennylane = mulliken_pop(mol, rdm1_ao)"
      ],
      "metadata": {
        "id": "D-0heZLHyUN_",
        "colab": {
          "base_uri": "https://localhost:8080/"
        },
        "outputId": "9d42ddd7-08c5-4d8a-e216-a1d2c6df6c79"
      },
      "execution_count": null,
      "outputs": [
        {
          "output_type": "stream",
          "name": "stdout",
          "text": [
            "Pyscf\n",
            " ** Mulliken pop  **\n",
            "pop of  0 H 1s            0.82691\n",
            "pop of  1 F 1s            1.99922\n",
            "pop of  1 F 2s            1.95167\n",
            "pop of  1 F 2px           1.22352\n",
            "pop of  1 F 2py           2.00000\n",
            "pop of  1 F 2pz           1.99868\n",
            " ** Mulliken atomic charges  **\n",
            "charge of    0H =      0.17309\n",
            "charge of    1F =     -0.17309\n",
            "Pennylane\n",
            " ** Mulliken pop  **\n",
            "pop of  0 H 1s            0.82698\n",
            "pop of  1 F 1s            1.99922\n",
            "pop of  1 F 2s            1.95167\n",
            "pop of  1 F 2px           1.22357\n",
            "pop of  1 F 2py           2.00000\n",
            "pop of  1 F 2pz           1.99856\n",
            " ** Mulliken atomic charges  **\n",
            "charge of    0H =      0.17302\n",
            "charge of    1F =     -0.17302\n"
          ]
        }
      ]
    },
    {
      "cell_type": "code",
      "source": [
        "# The atomic charges are in the second part of the output tuple\n",
        "charges_pyscf = mulliken_pop_pyscf[1]\n",
        "charges_pennylane = mulliken_pop_pennylane[1]\n",
        "\n",
        "# Calculate the difference between atomic charges\n",
        "charge_differences = np.array(charges_pyscf) - np.array(charges_pennylane)\n",
        "\n",
        "print(\"\\nDifference between atomic charges:\")\n",
        "for i, diff in enumerate(charge_differences):\n",
        "    print(f\"Ato {i}: charge difference = {diff:.6f}\")"
      ],
      "metadata": {
        "id": "nhGyy9j_z4P0",
        "colab": {
          "base_uri": "https://localhost:8080/"
        },
        "outputId": "5a2b4d40-2c30-4c81-e829-6f5dfc4d52cc"
      },
      "execution_count": null,
      "outputs": [
        {
          "output_type": "stream",
          "name": "stdout",
          "text": [
            "\n",
            "Difference between atomic charges:\n",
            "Ato 0: charge difference = 0.000071\n",
            "Ato 1: charge difference = -0.000071\n"
          ]
        }
      ]
    },
    {
      "cell_type": "markdown",
      "source": [
        "#Electrostatic potential"
      ],
      "metadata": {
        "id": "dJILp4xCWV7I"
      }
    },
    {
      "cell_type": "code",
      "source": [
        "bohr_to_angstrom = 0.529177\n",
        "\n",
        "def read_cube(filename):\n",
        "    with open(filename, \"r\") as f:\n",
        "        lines = f.readlines()\n",
        "\n",
        "    # Skip the first 6 headers of the Cube file\n",
        "    natoms = int(lines[2].split()[0])\n",
        "    origin = np.array([float(x) for x in lines[2].split()[1:]])\n",
        "\n",
        "    # Read grid dimensions\n",
        "    nx, ny, nz = [int(lines[i].split()[0]) for i in range(3, 6)]\n",
        "    grid_vectors = np.array([[float(x) for x in lines[i].split()[1:]] for i in range(3, 6)])\n",
        "\n",
        "    # Calculate the coordinate grid\n",
        "    x_vals = np.linspace(origin[0], origin[0] + grid_vectors[0, 0] * (nx - 1), nx)\n",
        "    y_vals = np.linspace(origin[1], origin[1] + grid_vectors[1, 1] * (ny - 1), ny)\n",
        "    z_vals = np.linspace(origin[2], origin[2] + grid_vectors[2, 2] * (nz - 1), nz)\n",
        "\n",
        "    # Convert from Bohr to Ångströms\n",
        "    x_vals *= bohr_to_angstrom\n",
        "    y_vals *= bohr_to_angstrom\n",
        "    z_vals *= bohr_to_angstrom\n",
        "\n",
        "    # Read electrostatic potential data\n",
        "    data_start = 6 + natoms  # Skip the atom lines\n",
        "    values = np.array([float(v) for line in lines[data_start:] for v in line.split()])\n",
        "\n",
        "    # Resize to 3D grid\n",
        "    data = values.reshape((nx, ny, nz))\n",
        "\n",
        "    return x_vals, y_vals, z_vals, data\n"
      ],
      "metadata": {
        "id": "dgdk7N2MYMSB"
      },
      "execution_count": null,
      "outputs": []
    },
    {
      "cell_type": "code",
      "source": [
        "cube_pyscf = tools.cubegen.mep(mol, \"mep_pyscf.cube\", rdm1_pyscf, resolution=0.1)\n",
        "cube_pennylane = tools.cubegen.mep(mol, \"mep_pennylane.cube\", rdm1_ao, resolution=0.1)"
      ],
      "metadata": {
        "id": "9mn_fnyBWYMD"
      },
      "execution_count": null,
      "outputs": []
    },
    {
      "cell_type": "code",
      "source": [
        "# Read data from the Cube file (Pyscf)\n",
        "\n",
        "\n",
        "x_vals_1, y_vals_1, z_vals_1, data_1 = read_cube(\"mep_pyscf.cube\")\n",
        "\n",
        "# Take a cut in the middle of the grid (y plane = 0) for Pyscf\n",
        "mid_y_1 = len(y_vals_1) // 2  # Central index\n",
        "mep_2d_1 = data_1[:, mid_y_1, :]  # Grid slicing\n",
        "\n",
        "# Read data from the Cube file (PennyLane)\n",
        "x_vals_2, y_vals_2, z_vals_2, data_2 = read_cube(\"mep_pennylane.cube\")\n",
        "\n",
        "# Take a cut in the middle of the grid (y plane = 0) for PennyLane\n",
        "mid_y_2 = len(y_vals_2) // 2  # Central index\n",
        "mep_2d_2 = data_2[:, mid_y_2, :]  # Grid slicing\n",
        "\n",
        "\n",
        "# Plotting the two heatmaps side by side\n",
        "plt.figure(figsize=(16, 6))\n",
        "\n",
        "# Subplot for Pyscf\n",
        "plt.subplot(1, 2, 1)\n",
        "X, Z = np.meshgrid(x_vals_1, z_vals_1)\n",
        "plt.contourf(X, Z, mep_2d_1.T, levels=100, cmap=\"RdBu_r\",  interpolation=\"bilinear\")\n",
        "\n",
        "plt.colorbar(label=\"Electrostatic Potential (a.u.)\")\n",
        "plt.xlabel(\"x (Å)\")\n",
        "plt.ylabel(\"z (Å)\")\n",
        "plt.title(\"2D Map of Electrostatic Potential (y=0 Plane) - Pyscf\")\n",
        "\n",
        "# Subplot for PennyLane\n",
        "plt.subplot(1, 2, 2)\n",
        "\n",
        "X, Z = np.meshgrid(x_vals_2, z_vals_2)\n",
        "plt.contourf(X, Z, mep_2d_1.T, levels=100, cmap=\"RdBu_r\",  interpolation=\"bilinear\")\n",
        "\n",
        "\n",
        "\n",
        "#plt.imshow(mep_2d_1.T, extent=[x_vals_1.min(), x_vals_1.max(), z_vals_1.min(), z_vals_1.max()],\n",
        "          # origin=\"lower\", cmap=\"RdBu_r\", aspect=\"auto\", interpolation=\"bilinear\")\n",
        "\n",
        "\n",
        "plt.colorbar(label=\"Electrostatic Potential (a.u.)\")\n",
        "plt.xlabel(\"x (Å)\")\n",
        "plt.ylabel(\"z (Å)\")\n",
        "plt.title(\"2D Map of Electrostatic Potential (y=0 Plane) - PennyLane\")\n",
        "\n",
        "plt.tight_layout()\n",
        "plt.show()\n"
      ],
      "metadata": {
        "id": "RbasCSFbYSQS",
        "colab": {
          "base_uri": "https://localhost:8080/",
          "height": 455
        },
        "outputId": "4f1b1d37-ddbd-4c5f-dbdd-d067bdd46f04"
      },
      "execution_count": null,
      "outputs": [
        {
          "output_type": "stream",
          "name": "stderr",
          "text": [
            "<ipython-input-134-950bfbd26a93>:24: UserWarning: The following kwargs were not used by contour: 'interpolation'\n",
            "  plt.contourf(X, Z, mep_2d_1.T, levels=100, cmap=\"RdBu_r\",  interpolation=\"bilinear\")\n",
            "<ipython-input-134-950bfbd26a93>:35: UserWarning: The following kwargs were not used by contour: 'interpolation'\n",
            "  plt.contourf(X, Z, mep_2d_1.T, levels=100, cmap=\"RdBu_r\",  interpolation=\"bilinear\")\n"
          ]
        },
        {
          "output_type": "display_data",
          "data": {
            "text/plain": [
              "<Figure size 1600x600 with 4 Axes>"
            ],
            "image/png": "[encoded data removed]"
          },
          "metadata": {}
        }
      ]
    },
    {
      "cell_type": "code",
      "source": [
        "# Read data from the Cube file (Pyscf)\n",
        "x_vals_1, y_vals_1, z_vals_1, data_1 = read_cube(\"mep_pyscf.cube\")\n",
        "\n",
        "# Extracting the 1D profile along the z-axis for Pyscf\n",
        "ix_1 = len(x_vals_1) // 2\n",
        "iy_1 = len(y_vals_1) // 2\n",
        "mep_1d_1 = data_1[ix_1, iy_1, :]\n",
        "\n",
        "# Read data from the Cube file (PennyLane)\n",
        "x_vals_2, y_vals_2, z_vals_2, data_2 = read_cube(\"mep_pennylane.cube\")\n",
        "\n",
        "# Extracting the 1D profile along the z-axis for PennyLane\n",
        "ix_2 = len(x_vals_2) // 2\n",
        "iy_2 = len(y_vals_2) // 2\n",
        "mep_1d_2 = data_2[ix_2, iy_2, :]\n",
        "\n",
        "# Calculate the difference between the two profiles\n",
        "mep_diff = mep_1d_1 - mep_1d_2\n",
        "\n",
        "# Plotting the two profiles and their difference side by side\n",
        "plt.figure(figsize=(16, 6))\n",
        "\n",
        "# Subplot for the 1D profiles\n",
        "plt.subplot(1, 2, 1)\n",
        "plt.plot(z_vals_1, mep_1d_1, marker=\"o\", label=\"Pyscf\", color=\"b\")\n",
        "plt.plot(z_vals_2, mep_1d_2, marker=\"x\", label=\"PennyLane\", color=\"r\")\n",
        "plt.xlabel(\"z (Å)\")\n",
        "plt.ylabel(\"Electrostatic Potential (a.u.)\")\n",
        "plt.title(\"1D Profile of Electrostatic Potential along z\")\n",
        "plt.grid()\n",
        "plt.legend()\n",
        "\n",
        "# Subplot for the difference between the profiles\n",
        "plt.subplot(1, 2, 2)\n",
        "plt.plot(z_vals_1, mep_diff, marker=\"s\", color=\"g\")\n",
        "plt.xlabel(\"z (Å)\")\n",
        "plt.ylabel(\"Difference in Electrostatic Potential (a.u.)\")\n",
        "plt.title(\"Difference Between the 1D Profiles\")\n",
        "plt.grid()\n",
        "\n",
        "# Adjust layout to avoid overlap\n",
        "plt.tight_layout()\n",
        "\n",
        "# Show the plot\n",
        "plt.show()\n"
      ],
      "metadata": {
        "id": "Rt-Pn5ZCYZU_",
        "colab": {
          "base_uri": "https://localhost:8080/",
          "height": 374
        },
        "outputId": "45f0b82d-4ace-418c-f0a2-40d98774dbf5"
      },
      "execution_count": null,
      "outputs": [
        {
          "output_type": "display_data",
          "data": {
            "text/plain": [
              "<Figure size 1600x600 with 2 Axes>"
            ],
            "image/png": "[encoded data removed]"
          },
          "metadata": {}
        }
      ]
    }
  ]
}