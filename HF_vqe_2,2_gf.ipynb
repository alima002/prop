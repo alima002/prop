{
  "nbformat": 4,
  "nbformat_minor": 0,
  "metadata": {
    "colab": {
      "provenance": [],
      "toc_visible": true,
      "include_colab_link": true
    },
    "kernelspec": {
      "name": "python3",
      "display_name": "Python 3"
    },
    "language_info": {
      "name": "python"
    }
  },
  "cells": [
    {
      "cell_type": "markdown",
      "metadata": {
        "id": "view-in-github",
        "colab_type": "text"
      },
      "source": [
        "<a href=\"https://colab.research.google.com/github/alima002/rdm1_vqe_prop/blob/main/HF_vqe_2%2C2_gf.ipynb\" target=\"_parent\"><img src=\"https://colab.research.google.com/assets/colab-badge.svg\" alt=\"Open In Colab\"/></a>"
      ]
    },
    {
      "cell_type": "code",
      "execution_count": 48,
      "metadata": {
        "colab": {
          "base_uri": "https://localhost:8080/"
        },
        "id": "P7mB6zjLwydD",
        "outputId": "0a4a9c63-b1b2-41a7-a7c4-8a80b94b798b"
      },
      "outputs": [
        {
          "output_type": "stream",
          "name": "stdout",
          "text": [
            "Requirement already satisfied: pennylane in /usr/local/lib/python3.11/dist-packages (0.40.0)\n",
            "Requirement already satisfied: numpy<2.1 in /usr/local/lib/python3.11/dist-packages (from pennylane) (1.26.4)\n",
            "Requirement already satisfied: scipy in /usr/local/lib/python3.11/dist-packages (from pennylane) (1.14.1)\n",
            "Requirement already satisfied: networkx in /usr/local/lib/python3.11/dist-packages (from pennylane) (3.4.2)\n",
            "Requirement already satisfied: rustworkx>=0.14.0 in /usr/local/lib/python3.11/dist-packages (from pennylane) (0.16.0)\n",
            "Requirement already satisfied: autograd in /usr/local/lib/python3.11/dist-packages (from pennylane) (1.7.0)\n",
            "Requirement already satisfied: tomlkit in /usr/local/lib/python3.11/dist-packages (from pennylane) (0.13.2)\n",
            "Requirement already satisfied: appdirs in /usr/local/lib/python3.11/dist-packages (from pennylane) (1.4.4)\n",
            "Requirement already satisfied: autoray>=0.6.11 in /usr/local/lib/python3.11/dist-packages (from pennylane) (0.7.1)\n",
            "Requirement already satisfied: cachetools in /usr/local/lib/python3.11/dist-packages (from pennylane) (5.5.2)\n",
            "Requirement already satisfied: pennylane-lightning>=0.40 in /usr/local/lib/python3.11/dist-packages (from pennylane) (0.40.0)\n",
            "Requirement already satisfied: requests in /usr/local/lib/python3.11/dist-packages (from pennylane) (2.32.3)\n",
            "Requirement already satisfied: typing-extensions in /usr/local/lib/python3.11/dist-packages (from pennylane) (4.12.2)\n",
            "Requirement already satisfied: packaging in /usr/local/lib/python3.11/dist-packages (from pennylane) (24.2)\n",
            "Requirement already satisfied: diastatic-malt in /usr/local/lib/python3.11/dist-packages (from pennylane) (2.15.2)\n",
            "Requirement already satisfied: scipy-openblas32>=0.3.26 in /usr/local/lib/python3.11/dist-packages (from pennylane-lightning>=0.40->pennylane) (0.3.29.0.0)\n",
            "Requirement already satisfied: astunparse in /usr/local/lib/python3.11/dist-packages (from diastatic-malt->pennylane) (1.6.3)\n",
            "Requirement already satisfied: gast in /usr/local/lib/python3.11/dist-packages (from diastatic-malt->pennylane) (0.6.0)\n",
            "Requirement already satisfied: termcolor in /usr/local/lib/python3.11/dist-packages (from diastatic-malt->pennylane) (2.5.0)\n",
            "Requirement already satisfied: charset-normalizer<4,>=2 in /usr/local/lib/python3.11/dist-packages (from requests->pennylane) (3.4.1)\n",
            "Requirement already satisfied: idna<4,>=2.5 in /usr/local/lib/python3.11/dist-packages (from requests->pennylane) (3.10)\n",
            "Requirement already satisfied: urllib3<3,>=1.21.1 in /usr/local/lib/python3.11/dist-packages (from requests->pennylane) (2.3.0)\n",
            "Requirement already satisfied: certifi>=2017.4.17 in /usr/local/lib/python3.11/dist-packages (from requests->pennylane) (2025.1.31)\n",
            "Requirement already satisfied: wheel<1.0,>=0.23.0 in /usr/local/lib/python3.11/dist-packages (from astunparse->diastatic-malt->pennylane) (0.45.1)\n",
            "Requirement already satisfied: six<2.0,>=1.6.1 in /usr/local/lib/python3.11/dist-packages (from astunparse->diastatic-malt->pennylane) (1.17.0)\n",
            "Requirement already satisfied: pyscf in /usr/local/lib/python3.11/dist-packages (2.8.0)\n",
            "Requirement already satisfied: numpy!=1.16,!=1.17,>=1.13 in /usr/local/lib/python3.11/dist-packages (from pyscf) (1.26.4)\n",
            "Requirement already satisfied: scipy>=1.6.0 in /usr/local/lib/python3.11/dist-packages (from pyscf) (1.14.1)\n",
            "Requirement already satisfied: h5py>=2.7 in /usr/local/lib/python3.11/dist-packages (from pyscf) (3.12.1)\n",
            "Requirement already satisfied: setuptools in /usr/local/lib/python3.11/dist-packages (from pyscf) (75.1.0)\n"
          ]
        }
      ],
      "source": [
        "!pip install pennylane\n",
        "!pip install pyscf"
      ]
    },
    {
      "cell_type": "markdown",
      "source": [
        "#imports"
      ],
      "metadata": {
        "id": "XVHw_PA2w9US"
      }
    },
    {
      "cell_type": "code",
      "source": [
        "import pennylane as qml\n",
        "from pyscf import gto, scf, tools\n",
        "import numpy as np\n",
        "import matplotlib.pyplot as plt\n",
        "from scipy.signal import argrelextrema"
      ],
      "metadata": {
        "id": "9Z9geWATyqt3"
      },
      "execution_count": 2,
      "outputs": []
    },
    {
      "cell_type": "markdown",
      "source": [
        "#User informations"
      ],
      "metadata": {
        "id": "Ey5GAdH7w_VC"
      }
    },
    {
      "cell_type": "code",
      "source": [
        "#modifications that must be made by the user\n",
        "geom = \"\"\"\n",
        "H 0.0  0.0  0.0\n",
        "F 0.95572  0.0  0.0\n",
        "\"\"\"\n",
        "charge = 0\n",
        "mult = 1\n",
        "spin = 0\n",
        "verbose=10\n",
        "basis = \"STO-3G\"\n",
        "Ang2Bohr = 1.8897259886\n",
        "\n",
        "nelec = 10\n",
        "active_space = True\n",
        "active_electrons = 2\n",
        "active_orbitals = 2\n",
        "\n",
        "#HF has 6 atomic orbitals an 10 electrons: 1 unocuped orbital."
      ],
      "metadata": {
        "id": "UcpaL4UJyzml"
      },
      "execution_count": 3,
      "outputs": []
    },
    {
      "cell_type": "code",
      "source": [
        "active_indices = [8, 9, 10, 11]"
      ],
      "metadata": {
        "id": "o38HT990KLe5"
      },
      "execution_count": 4,
      "outputs": []
    },
    {
      "cell_type": "markdown",
      "source": [
        "#Functions"
      ],
      "metadata": {
        "id": "WVjPC03OaCTV"
      }
    },
    {
      "cell_type": "code",
      "source": [
        "def C_2nd_quantization_order(Ca, Cb):\n",
        "  N = Ca.shape[0]\n",
        "  M = 2*Ca.shape[1]\n",
        "\n",
        "  C = np.empty((N,M), dtype=Ca.dtype)\n",
        "\n",
        "  C[:,0::2] = Ca\n",
        "  C[:,1::2] = Cb\n",
        "\n",
        "  return C"
      ],
      "metadata": {
        "id": "mtTyl8SdgNLz"
      },
      "execution_count": 5,
      "outputs": []
    },
    {
      "cell_type": "code",
      "source": [
        "#Generating the JW transformation matrix\n",
        "\n",
        "CREATION_FERMION_OP_TYPE = 0   #The creation operator 𝑎† is defined as (1/2)*(𝑋−𝑖𝑌).\n",
        "ANNIHILATION_FERMION_OP_TYPE = 1  #The annihilation operator 𝑎 is defined as (1/2)*(𝑋+𝑖𝑌).\n",
        "\n",
        "\n",
        "def pauli_string_fermion_operator(p, op_type):\n",
        "  f = (2*op_type-1)*1j    # When op_type = 0 (creation), f = -i, else f = i\n",
        "\n",
        "  Q_p = 0.5*(qml.PauliX(p) + f * qml.PauliY(p))  #linear combination of the Pauli operators X and Y, with the correct factor to represent the fermion operators\n",
        "\n",
        "  if p == 0:\n",
        "    return Q_p\n",
        "\n",
        "  for i in range(p):\n",
        "    Q_p = qml.PauliZ(i) @ Q_p  # Adds Z operators to preserve fermionic anticommutation rules.\n",
        "\n",
        "  return Q_p\n",
        "\n",
        "\n",
        "def pauli_string_excitation_operator(p, q):\n",
        "  a_dagger_p = pauli_string_fermion_operator(p, CREATION_FERMION_OP_TYPE)\n",
        "  a_q = pauli_string_fermion_operator(q, ANNIHILATION_FERMION_OP_TYPE)\n",
        "  return a_dagger_p @ a_q\n"
      ],
      "metadata": {
        "id": "pLL0KpTjaFfh"
      },
      "execution_count": 6,
      "outputs": []
    },
    {
      "cell_type": "code",
      "source": [
        "#The number of qubits here is calculated using all the orbital spins of the molecule, without considering active spaces\n",
        "\n",
        "def build_rdm1_active(qubits, ref_hf, ref_active, active_orbitals, active_indices):\n",
        "\n",
        "    '''\n",
        "    ref_hf: ON vector obtained with Hartree-Fock\n",
        "    ref_active: ON vector obtained with VQE\n",
        "    '''\n",
        "\n",
        "    active_spin_orbitals = active_orbitals*2\n",
        "    total_spin_orbitals = qubits\n",
        "\n",
        "    #--------------- Indexes in the total system and in the active space----------------------------------------------\n",
        "    #Create a list with the indices of the active spin-orbitals within the complete system.\n",
        "\n",
        "    active_indices = active_indices\n",
        "\n",
        "    active_map = {active_indices[i]: i for i in range(active_spin_orbitals)}  #e.g. {4:0, 5:1, 6:2, 7:3}\n",
        "\n",
        "    print(active_indices)\n",
        "    print(active_map)\n",
        "   # Build HF RDM1 (total system)\n",
        "    Xs = [pauli_string_excitation_operator(q, p) for p in range(total_spin_orbitals) for q in range(total_spin_orbitals)]\n",
        "    rdm1_hf = np.array([excitation_operator_expval_hf(ref_hf, X_qp) for X_qp in Xs]).reshape((total_spin_orbitals, total_spin_orbitals))\n",
        "\n",
        "   # Build RDM1 from quantum circuit (active space)\n",
        "    Xs_active = [pauli_string_excitation_operator(active_map[q], active_map[p])\n",
        "                 for p in active_indices for q in active_indices]  # Mapping to active space\n",
        "    rdm1_active = np.array([excitation_operator_expval_active(ref_active, X_qp) for X_qp in Xs_active])\n",
        "    rdm1_active = rdm1_active.reshape((active_spin_orbitals, active_spin_orbitals))\n",
        "\n",
        "    # Update HF RDM1 matrix with active space values\n",
        "    for i, p in enumerate(active_indices):\n",
        "        for j, q in enumerate(active_indices):\n",
        "            rdm1_hf[p, q] = rdm1_active[i, j]\n",
        "\n",
        "    return rdm1_hf"
      ],
      "metadata": {
        "id": "hCfvfgLbaH6t"
      },
      "execution_count": 7,
      "outputs": []
    },
    {
      "cell_type": "code",
      "source": [
        "def rdm1_mo2ao(rdm1, C):\n",
        "  return C @ rdm1 @ C.T\n",
        "\n",
        "#rdm1 in atomic orbitals\n",
        "def build_rdm1_ao(qubits, C):\n",
        "  rdm1 = build_rdm1_active(qubits)\n",
        "  return rdm1_mo2ao(rdm1, C)\n",
        "\n",
        "#electron density with pennylane\n",
        "def compute_electron_density_grid(rdm1, ao_vals):\n",
        "  return np.einsum(\"ip,pq,iq->i\", ao_vals, rdm1, ao_vals)"
      ],
      "metadata": {
        "id": "hSmOadx2afOc"
      },
      "execution_count": 8,
      "outputs": []
    },
    {
      "cell_type": "code",
      "source": [
        "#grid\n",
        "grid = np.linspace(-3.0, 3.0, 60).reshape(-1, 1)\n",
        "grid = np.hstack([grid, np.zeros((grid.shape[0], 2))])\n",
        "grid = np.array(grid) * Ang2Bohr"
      ],
      "metadata": {
        "id": "97h4SZqTmWBM"
      },
      "execution_count": 9,
      "outputs": []
    },
    {
      "cell_type": "markdown",
      "source": [
        "#Pyscf"
      ],
      "metadata": {
        "id": "_8HwPQDVgv-b"
      }
    },
    {
      "cell_type": "code",
      "source": [
        "from pyscf import gto, scf, ci\n",
        "mol = gto.M(atom=geom, basis=basis, charge=charge, spin=spin, verbose=verbose)\n",
        "mf = scf.HF(mol).run()\n",
        "#wf = ci.CISD(mf).run() #\n",
        "#wf.kernel()\n",
        "\n",
        "myhf = mol.HF().run()\n",
        "\n",
        "# For example, to include all electrons in the active space:\n",
        "wf = myhf.CASSCF(2, 2).run()  # 2 orbitals (4 spins orbitais): 2 electrons (1 orbital) - 1 orbital desocupado\n",
        "\n",
        "\n",
        "if isinstance(wf, scf.uhf.UHF):  # Path to UHF Class\n",
        "    Ca, Cb = wf.mo_coeff  # UHF returns two arrays\n",
        "else:\n",
        "    Ca = wf.mo_coeff  # RHF or HF returns a single array\n",
        "    Cb = Ca  # In RHF, the α and β orbitals are the same\n",
        "\n",
        "S = mol.intor(\"int1e_ovlp\")\n",
        "I = Ca.T @ S @ Ca"
      ],
      "metadata": {
        "colab": {
          "base_uri": "https://localhost:8080/"
        },
        "id": "bd3ktk9VzH6D",
        "outputId": "8bad356d-fd73-43eb-d26d-4c69fd544683"
      },
      "execution_count": 10,
      "outputs": [
        {
          "output_type": "stream",
          "name": "stdout",
          "text": [
            "System: uname_result(system='Linux', node='8de3950b53b9', release='6.1.85+', version='#1 SMP PREEMPT_DYNAMIC Thu Jun 27 21:05:47 UTC 2024', machine='x86_64')  Threads 2\n",
            "Python 3.11.11 (main, Dec  4 2024, 08:55:07) [GCC 11.4.0]\n",
            "numpy 1.26.4  scipy 1.14.1  h5py 3.12.1\n",
            "Date: Sat Mar 15 14:48:40 2025\n",
            "PySCF version 2.8.0\n",
            "PySCF path  /usr/local/lib/python3.11/dist-packages/pyscf\n",
            "\n",
            "[CONFIG] ARGPARSE = False\n",
            "[CONFIG] DEBUG = False\n",
            "[CONFIG] MAX_MEMORY = 4000\n",
            "[CONFIG] TMPDIR = /tmp\n",
            "[CONFIG] UNIT = angstrom\n",
            "[CONFIG] VERBOSE = 3\n",
            "[CONFIG] conf_file = None\n",
            "[INPUT] verbose = 10\n",
            "[INPUT] max_memory = 4000 \n",
            "[INPUT] num. atoms = 2\n",
            "[INPUT] num. electrons = 10\n",
            "[INPUT] charge = 0\n",
            "[INPUT] spin (= nelec alpha-beta = 2S) = 0\n",
            "[INPUT] symmetry False subgroup None\n",
            "[INPUT] Mole.unit = angstrom\n",
            "[INPUT] Symbol           X                Y                Z      unit          X                Y                Z       unit  Magmom\n",
            "[INPUT]  1 H      0.000000000000   0.000000000000   0.000000000000 AA    0.000000000000   0.000000000000   0.000000000000 Bohr   0.0\n",
            "[INPUT]  2 F      0.955720000000   0.000000000000   0.000000000000 AA    1.806049051769   0.000000000000   0.000000000000 Bohr   0.0\n",
            "[INPUT] ---------------- BASIS SET ---------------- \n",
            "[INPUT] l, kappa, [nprim/nctr], expnt,             c_1 c_2 ...\n",
            "[INPUT] F\n",
            "[INPUT] 0    0    [3    /1   ]  166.67913         0.15432897\n",
            "                                30.360812         0.53532814\n",
            "                                8.2168207         0.44463454\n",
            "[INPUT] 0    0    [3    /1   ]  6.4648032         -0.09996723\n",
            "                                1.5022812         0.39951283\n",
            "                                0.4885885         0.70011547\n",
            "[INPUT] 1    0    [3    /1   ]  6.4648032         0.15591627\n",
            "                                1.5022812         0.60768372\n",
            "                                0.4885885         0.39195739\n",
            "[INPUT] H\n",
            "[INPUT] 0    0    [3    /1   ]  3.42525091        0.15432897\n",
            "                                0.62391373        0.53532814\n",
            "                                0.1688554         0.44463454\n",
            "\n",
            "nuclear repulsion = 4.98325335692462\n",
            "number of shells = 4\n",
            "number of NR pGTOs = 18\n",
            "number of NR cGTOs = 6\n",
            "basis = STO-3G\n",
            "ecp = {}\n",
            "bas 0, expnt(s) = [3.42525091 0.62391373 0.1688554 ]\n",
            "bas 1, expnt(s) = [166.67913    30.360812    8.2168207]\n",
            "bas 2, expnt(s) = [6.4648032 1.5022812 0.4885885]\n",
            "bas 3, expnt(s) = [6.4648032 1.5022812 0.4885885]\n",
            "CPU time:         4.64\n",
            "arg.atm = [[ 1 20  1 23  0  0]\n",
            " [ 9 24  1 27  0  0]]\n",
            "arg.bas = [[ 0  0  3  1  0 46 49  0]\n",
            " [ 1  0  3  1  0 28 31  0]\n",
            " [ 1  0  3  1  0 34 37  0]\n",
            " [ 1  1  3  1  0 40 43  0]]\n",
            "arg.env = [  0.           0.           0.           0.           0.\n",
            "   0.           0.           0.           0.           0.\n",
            "   0.           0.           0.           0.           0.\n",
            "   0.           0.           0.           0.           0.\n",
            "   0.           0.           0.           0.           1.80604905\n",
            "   0.           0.           0.         166.67913     30.360812\n",
            "   8.2168207   18.0872858   17.49323517   5.45187737   6.4648032\n",
            "   1.5022812    0.4885885   -1.02397454   1.36964866   1.03369431\n",
            "   6.4648032    1.5022812    0.4885885    4.68888914   2.94849933\n",
            "   0.46709186   3.42525091   0.62391373   0.1688554    0.98170675\n",
            "   0.94946401   0.29590645]\n",
            "ecpbas  = []\n",
            "\n",
            "\n",
            "******** <class 'pyscf.scf.hf.RHF'> ********\n",
            "method = RHF\n",
            "initial guess = minao\n",
            "damping factor = 0\n",
            "level_shift factor = 0\n",
            "DIIS = <class 'pyscf.scf.diis.CDIIS'>\n",
            "diis_start_cycle = 1\n",
            "diis_space = 8\n",
            "diis_damp = 0\n",
            "SCF conv_tol = 1e-09\n",
            "SCF conv_tol_grad = None\n",
            "SCF max_cycles = 50\n",
            "direct_scf = True\n",
            "direct_scf_tol = 1e-13\n",
            "chkfile to save SCF result = /tmp/tmpavfxhsbb\n",
            "max_memory 4000 MB (current use 315 MB)\n",
            "cond(S) = 3.615501440100942\n",
            "Set gradient conv threshold to 3.16228e-05\n",
            "Initial guess from minao.\n",
            "Nelec from initial guess = 9.81687950379971\n",
            "E1 = -147.03742251525898  E_coul = 43.74240867883714\n",
            "init E= -98.3117604794972\n",
            "    CPU time for initialize scf      0.10 sec, wall time      0.10 sec\n",
            "  HOMO = -0.566015539644919  LUMO = 0.371154322575788\n",
            "  mo_energy =\n",
            "[-26.27546657  -1.73194106  -0.75407265  -0.56601554  -0.56601554\n",
            "   0.37115432]\n",
            "E1 = -150.54598167892522  E_coul = 47.03984526343256\n",
            "cycle= 1 E= -98.522883058568  delta_E= -0.211  |g|= 0.316  |ddm|= 1.18\n",
            "    CPU time for cycle= 1      0.02 sec, wall time      0.01 sec\n",
            "diis-norm(errvec)=0.447502\n",
            "diis-c [-0.20025776  1.        ]\n",
            "  HOMO = -0.34370379117536  LUMO = 0.585038211114258\n",
            "  mo_energy =\n",
            "[-25.67674989  -1.37095183  -0.51974997  -0.34370379  -0.34370379\n",
            "   0.58503821]\n",
            "E1 = -149.50690502992865  E_coul = 45.95156775011954\n",
            "cycle= 2 E= -98.5720839228845  delta_E= -0.0492  |g|= 0.0396  |ddm|= 0.524\n",
            "    CPU time for cycle= 2      0.03 sec, wall time      0.03 sec\n",
            "diis-norm(errvec)=0.0560367\n",
            "diis-c [-0.00122603 -0.10872873  1.10872873]\n",
            "  HOMO = -0.46219762517328  LUMO = 0.58992335345053\n",
            "  mo_energy =\n",
            "[-25.90299798  -1.45877525  -0.57558821  -0.46219763  -0.46219763\n",
            "   0.58992335]\n",
            "E1 = -149.3855672952253  E_coul = 45.82947527699734\n",
            "cycle= 3 E= -98.5728386613033  delta_E= -0.000755  |g|= 0.00518  |ddm|= 0.0762\n",
            "    CPU time for cycle= 3      0.02 sec, wall time      0.02 sec\n",
            "diis-norm(errvec)=0.00732744\n",
            "diis-c [-4.81875778e-06  2.85077588e-02 -2.77947098e-01  1.24943934e+00]\n",
            "  HOMO = -0.463139891208597  LUMO = 0.589252816544585\n",
            "  mo_energy =\n",
            "[-25.90353045  -1.45976266  -0.57336824  -0.46313989  -0.46313989\n",
            "   0.58925282]\n",
            "E1 = -149.38643148906087  E_coul = 45.83033088941893\n",
            "cycle= 4 E= -98.5728472427173  delta_E= -8.58e-06  |g|= 0.000204  |ddm|= 0.00775\n",
            "    CPU time for cycle= 4      0.03 sec, wall time      0.02 sec\n",
            "diis-norm(errvec)=0.000287922\n",
            "diis-c [-3.48140520e-10 -1.12280792e-03  6.59663675e-03 -5.73191913e-02\n",
            "  1.05184536e+00]\n",
            "  HOMO = -0.463115894806066  LUMO = 0.589576528655857\n",
            "  mo_energy =\n",
            "[-25.90353661  -1.45978909  -0.57358574  -0.46311589  -0.46311589\n",
            "   0.58957653]\n",
            "E1 = -149.38594304059427  E_coul = 45.82984242221789\n",
            "cycle= 5 E= -98.5728472614518  delta_E= -1.87e-08  |g|= 6.1e-06  |ddm|= 0.000429\n",
            "    CPU time for cycle= 5      0.02 sec, wall time      0.01 sec\n",
            "diis-norm(errvec)=8.63281e-06\n",
            "diis-c [-1.64588137e-16  1.11513469e-06  1.61090341e-04 -7.81144706e-04\n",
            "  3.43644202e-03  9.97182497e-01]\n",
            "  HOMO = -0.463113825741677  LUMO = 0.589564780894832\n",
            "  mo_energy =\n",
            "[-25.90352977  -1.45978616  -0.57357403  -0.46311383  -0.46311383\n",
            "   0.58956478]\n",
            "E1 = -149.38596599345138  E_coul = 45.82986537505801\n",
            "cycle= 6 E= -98.5728472614688  delta_E= -1.7e-11  |g|= 3.35e-08  |ddm|= 1.08e-05\n",
            "    CPU time for cycle= 6      0.02 sec, wall time      0.02 sec\n",
            "  HOMO = -0.463113815744322  LUMO = 0.589564818928101\n",
            "  mo_energy =\n",
            "[-25.90352976  -1.45978617  -0.57357407  -0.46311382  -0.46311382\n",
            "   0.58956482]\n",
            "E1 = -149.38596588289394  E_coul = 45.8298652645006\n",
            "Extra cycle  E= -98.5728472614687  delta_E= 2.84e-14  |g|= 4.33e-09  |ddm|= 5.6e-08\n",
            "    CPU time for scf_cycle      0.25 sec, wall time      0.23 sec\n",
            "    CPU time for SCF      0.30 sec, wall time      0.29 sec\n",
            "converged SCF energy = -98.5728472614687\n",
            "\n",
            "\n",
            "******** <class 'pyscf.scf.hf.RHF'> ********\n",
            "method = RHF\n",
            "initial guess = minao\n",
            "damping factor = 0\n",
            "level_shift factor = 0\n",
            "DIIS = <class 'pyscf.scf.diis.CDIIS'>\n",
            "diis_start_cycle = 1\n",
            "diis_space = 8\n",
            "diis_damp = 0\n",
            "SCF conv_tol = 1e-09\n",
            "SCF conv_tol_grad = None\n",
            "SCF max_cycles = 50\n",
            "direct_scf = True\n",
            "direct_scf_tol = 1e-13\n",
            "chkfile to save SCF result = /tmp/tmpu7nrh_0l\n",
            "max_memory 4000 MB (current use 330 MB)\n",
            "cond(S) = 3.615501440100942\n",
            "Set gradient conv threshold to 3.16228e-05\n",
            "Initial guess from minao.\n",
            "Nelec from initial guess = 9.81687950379971\n",
            "E1 = -147.03742251525898  E_coul = 43.74240867883714\n",
            "init E= -98.3117604794972\n",
            "    CPU time for initialize scf      0.08 sec, wall time      0.06 sec\n",
            "  HOMO = -0.566015539644919  LUMO = 0.371154322575788\n",
            "  mo_energy =\n",
            "[-26.27546657  -1.73194106  -0.75407265  -0.56601554  -0.56601554\n",
            "   0.37115432]\n",
            "E1 = -150.54598167892522  E_coul = 47.03984526343256\n",
            "cycle= 1 E= -98.522883058568  delta_E= -0.211  |g|= 0.316  |ddm|= 1.18\n",
            "    CPU time for cycle= 1      0.01 sec, wall time      0.01 sec\n",
            "diis-norm(errvec)=0.447502\n",
            "diis-c [-0.20025776  1.        ]\n",
            "  HOMO = -0.34370379117536  LUMO = 0.585038211114258\n",
            "  mo_energy =\n",
            "[-25.67674989  -1.37095183  -0.51974997  -0.34370379  -0.34370379\n",
            "   0.58503821]\n",
            "E1 = -149.50690502992865  E_coul = 45.95156775011954\n",
            "cycle= 2 E= -98.5720839228845  delta_E= -0.0492  |g|= 0.0396  |ddm|= 0.524\n",
            "    CPU time for cycle= 2      0.04 sec, wall time      0.04 sec\n",
            "diis-norm(errvec)=0.0560367\n",
            "diis-c [-0.00122603 -0.10872873  1.10872873]\n",
            "  HOMO = -0.46219762517328  LUMO = 0.589923353450529\n",
            "  mo_energy =\n",
            "[-25.90299798  -1.45877525  -0.57558821  -0.46219763  -0.46219763\n",
            "   0.58992335]\n",
            "E1 = -149.38556729522531  E_coul = 45.82947527699738\n",
            "cycle= 3 E= -98.5728386613033  delta_E= -0.000755  |g|= 0.00518  |ddm|= 0.0762\n",
            "    CPU time for cycle= 3      0.02 sec, wall time      0.03 sec\n",
            "diis-norm(errvec)=0.00732744\n",
            "diis-c [-4.81875778e-06  2.85077588e-02 -2.77947098e-01  1.24943934e+00]\n",
            "  HOMO = -0.463139891208597  LUMO = 0.58925281654459\n",
            "  mo_energy =\n",
            "[-25.90353045  -1.45976266  -0.57336824  -0.46313989  -0.46313989\n",
            "   0.58925282]\n",
            "E1 = -149.38643148906078  E_coul = 45.83033088941891\n",
            "cycle= 4 E= -98.5728472427172  delta_E= -8.58e-06  |g|= 0.000204  |ddm|= 0.00775\n",
            "    CPU time for cycle= 4      0.03 sec, wall time      0.03 sec\n",
            "diis-norm(errvec)=0.000287922\n",
            "diis-c [-3.48140521e-10 -1.12280792e-03  6.59663675e-03 -5.73191913e-02\n",
            "  1.05184536e+00]\n",
            "  HOMO = -0.46311589480607  LUMO = 0.589576528655856\n",
            "  mo_energy =\n",
            "[-25.90353661  -1.45978909  -0.57358574  -0.46311589  -0.46311589\n",
            "   0.58957653]\n",
            "E1 = -149.38594304059416  E_coul = 45.82984242221785\n",
            "cycle= 5 E= -98.5728472614517  delta_E= -1.87e-08  |g|= 6.1e-06  |ddm|= 0.000429\n",
            "    CPU time for cycle= 5      0.04 sec, wall time      0.03 sec\n",
            "diis-norm(errvec)=8.63281e-06\n",
            "diis-c [-1.29776088e-16  1.11527075e-06  1.61089561e-04 -7.81137861e-04\n",
            "  3.43631523e-03  9.97182618e-01]\n",
            "  HOMO = -0.46311382574143  LUMO = 0.589564780893404\n",
            "  mo_energy =\n",
            "[-25.90352977  -1.45978616  -0.57357403  -0.46311383  -0.46311383\n",
            "   0.58956478]\n",
            "E1 = -149.38596599345414  E_coul = 45.829865375060805\n",
            "cycle= 6 E= -98.5728472614687  delta_E= -1.7e-11  |g|= 3.35e-08  |ddm|= 1.08e-05\n",
            "    CPU time for cycle= 6      0.03 sec, wall time      0.02 sec\n",
            "  HOMO = -0.463113815744041  LUMO = 0.589564818928118\n",
            "  mo_energy =\n",
            "[-25.90352976  -1.45978617  -0.57357407  -0.46311382  -0.46311382\n",
            "   0.58956482]\n",
            "E1 = -149.38596588289408  E_coul = 45.82986526450078\n",
            "Extra cycle  E= -98.5728472614687  delta_E= 2.84e-14  |g|= 4.33e-09  |ddm|= 5.6e-08\n",
            "    CPU time for scf_cycle      0.28 sec, wall time      0.25 sec\n",
            "    CPU time for SCF      0.30 sec, wall time      0.27 sec\n",
            "converged SCF energy = -98.5728472614687\n",
            "\n",
            "******** <class 'pyscf.mcscf.mc1step.CASSCF'> ********\n",
            "CAS (1e+1e, 2o), ncore = 4, nvir = 0\n",
            "max_cycle_macro = 50\n",
            "max_cycle_micro = 4\n",
            "conv_tol = 1e-07\n",
            "conv_tol_grad = None\n",
            "orbital rotation max_stepsize = 0.02\n",
            "orbital rotation threshold for CI restart = 0.01\n",
            "augmented hessian ah_max_cycle = 30\n",
            "augmented hessian ah_conv_tol = 1e-12\n",
            "augmented hessian ah_linear dependence = 1e-14\n",
            "augmented hessian ah_level shift = 1e-08\n",
            "augmented hessian ah_start_tol = 2.5\n",
            "augmented hessian ah_start_cycle = 3\n",
            "augmented hessian ah_grad_trust_region = 3\n",
            "kf_trust_region = 3\n",
            "kf_interval = 4\n",
            "ci_response_space = 4\n",
            "ci_grad_trust_region = 3\n",
            "with_dep4 0\n",
            "natorb = False\n",
            "canonicalization = True\n",
            "sorting_mo_energy = False\n",
            "ao2mo_level = 2\n",
            "chkfile = /tmp/tmpu7nrh_0l\n",
            "max_memory 4000 MB (current use 333 MB)\n",
            "internal_rotation = False\n",
            "******** <class 'pyscf.fci.direct_spin1.FCISolver'> ********\n",
            "max. cycles = 50\n",
            "conv_tol = 1e-08\n",
            "davidson only = False\n",
            "linear dependence = 1e-12\n",
            "level shift = 0.001\n",
            "max iter space = 12\n",
            "max_memory 4000 MB\n",
            "nroots = 1\n",
            "pspace_size = 400\n",
            "spin = None\n",
            "Start 1-step CASSCF\n",
            "Start CASCI\n",
            "    CPU time for integral transformation to CAS space      0.00 sec, wall time      0.00 sec\n",
            "core energy = -96.649105981732\n",
            "    CPU time for effective h1e in CAS space      0.00 sec, wall time      0.00 sec\n",
            "    CPU time for FCI solver      0.00 sec, wall time      0.00 sec\n",
            "CAS space CI energy = -1.92451211679041\n",
            "CASCI E = -98.5736180985225  S^2 = 0.0000000\n",
            "Set conv_tol_grad to 0.000316228\n",
            "    CPU time for Initializing 1-step CASSCF      0.05 sec, wall time      0.05 sec\n",
            "    CPU time for CAS DM      0.00 sec, wall time      0.01 sec\n",
            "    |g|=0.00223\n",
            "    CPU time for gen h_op      0.01 sec, wall time      0.01 sec\n",
            "v[0] [1.000e+00 3.788e-04]\n",
            "AH eigs [-8.454e-07  5.892e+00]\n",
            "CIAH eigen-sel 0\n",
            "... AH step 1  index= 0  |dx|= 0.0041191  eig= -8.4543e-07  v[0]= 1  lindep= 4.9813e-06\n",
            "v[0] [1.000e+00 6.721e-04 1.741e-05]\n",
            "AH eigs [-1.449e-06  3.183e+00  3.653e+01]\n",
            "CIAH eigen-sel 0\n",
            "... AH step 2  index= 0  |dx|= 4.9636e-05  eig= -1.4489e-06  v[0]= 1  lindep= 1.4061e-06\n",
            "v[0] [-1.000e+00  2.061e-04 -6.376e-04  1.011e-05]\n",
            "AH eigs [-1.450e-06  2.034e+00  3.340e+00  5.134e+01]\n",
            "CIAH eigen-sel 0\n",
            "... AH step 3  index= 0  |dx|= 9.827e-17  eig= -1.4497e-06  v[0]= -1  lindep= 1.0903e-06\n",
            "    imic  1( 3)  |g[o]|=9.72e-10  |dxi|=0.00067  max(|x|)=0.000598  |dr|=0.00067  eig=-1.45e-06  seig=1.09e-06\n",
            "    CPU time for orbital rotation      0.07 sec, wall time      0.07 sec\n",
            "CI step by full response\n",
            "tol 4.98134e-07  toloose 0.000705786\n",
            "max_cycle 50  max_space 12  max_memory 3666  incore True\n",
            "    CPU time for contract_2e      0.02 sec, wall time      0.02 sec\n",
            "davidson 0 1  |r|= 5.91e-05  e= [-1.92547593]  max|de|= -1.93  lindep= 0.0809\n",
            "    CPU time for contract_2e      0.02 sec, wall time      0.02 sec\n",
            "root 0 converged  |r|= 1.94e-15  e= -1.9254759351028108  max|de|= -2.73e-09\n",
            "converged 1 2  |r|= 1.94e-15  e= [-1.92547594]  max|de|= -2.73e-09\n",
            "    CPU time for update CAS DM      0.10 sec, wall time      0.08 sec\n",
            "micro  1  |u-1|=0.000948  |g[o]|=0.00223  |g[c]|=5.91e-05  |ddm|=6.42e-06\n",
            "    CPU time for micro iter  1      0.01 sec, wall time      0.01 sec\n",
            "Active space overlap to initial guess, SVD = [1.         0.99999978]\n",
            "Active space overlap to last step, SVD = [1.         0.99999978]\n",
            "    CPU time for update eri      0.05 sec, wall time      0.06 sec\n",
            "Start CASCI\n",
            "    CPU time for integral transformation to CAS space      0.00 sec, wall time      0.00 sec\n",
            "core energy = -96.6481436159858\n",
            "    CPU time for effective h1e in CAS space      0.00 sec, wall time      0.01 sec\n",
            "tol 1e-08  toloose 0.0001\n",
            "max_cycle 50  max_space 12  max_memory 3666  incore True\n",
            "    CPU time for contract_2e      0.01 sec, wall time      0.01 sec\n",
            "Drop eigenvector 0, norm=1.14e-08\n",
            "davidson 0 1  |r|= 1.14e-08  e= [-1.92547593]  max|de|= -1.93  lindep=    1\n",
            "Linear dependency in trial subspace. |r| for each state [1.13634415e-08]\n",
            "    CPU time for FCI solver      0.02 sec, wall time      0.02 sec\n",
            "CAS space CI energy = -1.92547593482325\n",
            "macro iter   1 (  3 JK    1 micro), CASSCF E = -98.5736195508090  dE = -1.45228657e-06  S^2 = 0.0000000\n",
            "               |grad[o]|=0.00223  |grad[c]|=5.91e-05  |ddm|=6.42e-06  |maxRot[o]|=0.000598\n",
            "    CPU time for CASCI solver      0.04 sec, wall time      0.05 sec\n",
            "    CPU time for macro iter  1      0.27 sec, wall time      0.27 sec\n",
            "    |g|=3.93e-06\n",
            "    CPU time for gen h_op      0.01 sec, wall time      0.01 sec\n",
            "    CPU time for orbital rotation      0.02 sec, wall time      0.02 sec\n",
            "CI step by full response\n",
            "tol 1e-07  toloose 0.000316228\n",
            "max_cycle 50  max_space 12  max_memory 3666  incore True\n",
            "    CPU time for contract_2e      0.00 sec, wall time      0.00 sec\n",
            "Drop eigenvector 0, norm=1.14e-08\n",
            "davidson 0 1  |r|= 1.14e-08  e= [-1.92547593]  max|de|= -1.93  lindep=    1\n",
            "Linear dependency in trial subspace. |r| for each state [1.13634415e-08]\n",
            "    CPU time for update CAS DM      0.03 sec, wall time      0.02 sec\n",
            "micro  1  |u-1|=    0  |g[o]|=3.93e-06  |g[c]|=1.14e-08  |ddm|=    0\n",
            "    CPU time for micro iter  1      0.01 sec, wall time      0.01 sec\n",
            "Active space overlap to initial guess, SVD = [1.         0.99999978]\n",
            "Active space overlap to last step, SVD = [1. 1.]\n",
            "    CPU time for update eri      0.01 sec, wall time      0.01 sec\n",
            "Start CASCI\n",
            "    CPU time for integral transformation to CAS space      0.00 sec, wall time      0.00 sec\n",
            "core energy = -96.6481436159858\n",
            "    CPU time for effective h1e in CAS space      0.00 sec, wall time      0.00 sec\n",
            "tol 1e-08  toloose 0.0001\n",
            "max_cycle 50  max_space 12  max_memory 3666  incore True\n",
            "    CPU time for contract_2e      0.01 sec, wall time      0.01 sec\n",
            "Drop eigenvector 0, norm=1.14e-08\n",
            "davidson 0 1  |r|= 1.14e-08  e= [-1.92547593]  max|de|= -1.93  lindep=    1\n",
            "Linear dependency in trial subspace. |r| for each state [1.13634415e-08]\n",
            "    CPU time for FCI solver      0.02 sec, wall time      0.02 sec\n",
            "CAS space CI energy = -1.92547593482325\n",
            "macro iter   2 (  1 JK    1 micro), CASSCF E = -98.5736195508090  dE =  0.00000000e+00  S^2 = 0.0000000\n",
            "               |grad[o]|=3.93e-06  |grad[c]|=1.14e-08  |ddm|=    0  |maxRot[o]|=    0\n",
            "    CPU time for CASCI solver      0.05 sec, wall time      0.04 sec\n",
            "    CPU time for macro iter  2      0.12 sec, wall time      0.10 sec\n",
            "1-step CASSCF converged in   2 macro (  4 JK   2 micro) steps\n",
            "CASSCF canonicalization\n",
            "Density matrix diagonal elements [1.99879026e+00 1.20973977e-03]\n",
            "i = 1  <i|F|i> = -25.90495336\n",
            "i = 2  <i|F|i> =  -1.46030353\n",
            "i = 3  <i|F|i> =  -0.57402590\n",
            "i = 4  <i|F|i> =  -0.46387071\n",
            "i = 5  <i|F|i> =  -0.46342996\n",
            "i = 6  <i|F|i> =   0.58913844\n",
            "    CPU time for 1-step CASSCF      0.47 sec, wall time      0.44 sec\n",
            "CASSCF energy = -98.5736195508090\n",
            "CASCI E = -98.5736195508090  E(CI) = -1.92547593482325  S^2 = 0.0000000\n"
          ]
        }
      ]
    },
    {
      "cell_type": "code",
      "source": [
        "C = C_2nd_quantization_order(Ca,Cb) # MO coeff. matrix\n",
        "print(C)"
      ],
      "metadata": {
        "colab": {
          "base_uri": "https://localhost:8080/"
        },
        "id": "byqAYhu4GnPh",
        "outputId": "b2cad0d1-0139-4e8e-9dae-d08d0694ee60"
      },
      "execution_count": 11,
      "outputs": [
        {
          "output_type": "stream",
          "name": "stdout",
          "text": [
            "[[-0.0053278  -0.0053278   0.15086597  0.15086597 -0.53414341 -0.53414341\n",
            "   0.          0.          0.          0.          1.05386087  1.05386087]\n",
            " [ 0.99474743  0.99474743 -0.25065825 -0.25065825 -0.07819725 -0.07819725\n",
            "   0.          0.          0.          0.          0.08065826  0.08065826]\n",
            " [ 0.02225039  0.02225039  0.94657115  0.94657115  0.41064969  0.41064969\n",
            "   0.          0.          0.          0.         -0.5160127  -0.5160127 ]\n",
            " [-0.00266398 -0.00266398 -0.07750889 -0.07750889  0.69780808  0.69780808\n",
            "   0.          0.          0.          0.          0.81663756  0.81663756]\n",
            " [ 0.          0.          0.          0.          0.          0.\n",
            "   1.          1.          0.          0.          0.          0.        ]\n",
            " [ 0.          0.          0.          0.          0.          0.\n",
            "   0.          0.          1.          1.          0.          0.        ]]\n"
          ]
        }
      ]
    },
    {
      "cell_type": "code",
      "source": [
        "rdm1_pyscf = wf.make_rdm1()\n",
        "print(rdm1_pyscf)\n",
        "\n",
        "\n",
        "#If UHF or RHF is used, it is necessary sum the two matrices:\n",
        "#rdm1_pyscf = np.sum(rdm1_pyscf, axis=0)\n",
        "#print(\"Shape of rdm1_pyscf:\", rdm1_pyscf.shape)"
      ],
      "metadata": {
        "colab": {
          "base_uri": "https://localhost:8080/"
        },
        "id": "sqpHAt_bAwD3",
        "outputId": "ef89565c-6f7e-47c3-8523-f0617dcc1d12"
      },
      "execution_count": 12,
      "outputs": [
        {
          "output_type": "stream",
          "name": "stdout",
          "text": [
            "[[ 0.61753979 -0.00259131 -0.15397585 -0.76777657  0.          0.        ]\n",
            " [-0.00259131  2.11694151 -0.49453841 -0.07549715  0.          0.        ]\n",
            " [-0.15397585 -0.49453841  2.13057251  0.42574567  0.          0.        ]\n",
            " [-0.76777657 -0.07549715  0.42574567  0.98670845  0.          0.        ]\n",
            " [ 0.          0.          0.          0.          2.          0.        ]\n",
            " [ 0.          0.          0.          0.          0.          1.99879026]]\n"
          ]
        }
      ]
    },
    {
      "cell_type": "code",
      "source": [
        "#----------electron density with pyscf----------------\n",
        "\n",
        "#GTOs calculations\n",
        "ao_vals_pyscf = gto.eval_gto(mol, \"GTOval\", grid)\n",
        "\n",
        "#electron density\n",
        "density_grid_pyscf = np.einsum(\"pi,ij,pj->p\", ao_vals_pyscf, rdm1_pyscf, ao_vals_pyscf)\n",
        "print(density_grid_pyscf)"
      ],
      "metadata": {
        "id": "GMPuLlI47fWj",
        "colab": {
          "base_uri": "https://localhost:8080/"
        },
        "outputId": "58b147c6-c0bc-4018-ec2f-f16c523346c7"
      },
      "execution_count": 13,
      "outputs": [
        {
          "output_type": "stream",
          "name": "stdout",
          "text": [
            "[8.31732679e-08 1.71454008e-07 3.44731892e-07 6.76066594e-07\n",
            " 1.29324596e-06 2.41310720e-06 4.39255713e-06 7.80163186e-06\n",
            " 1.35249577e-05 2.29007952e-05 3.79156435e-05 6.14961708e-05\n",
            " 9.79954631e-05 1.54083153e-04 2.40455417e-04 3.75128639e-04\n",
            " 5.89623062e-04 9.40093389e-04 1.52621577e-03 2.52055701e-03\n",
            " 4.20839391e-03 7.03123384e-03 1.16262880e-02 1.89111382e-02\n",
            " 3.04856082e-02 4.99133882e-02 8.47566599e-02 1.45446259e-01\n",
            " 2.32319979e-01 3.16862959e-01 3.58428875e-01 3.57168704e-01\n",
            " 3.59506392e-01 4.10684874e-01 5.28779457e-01 7.08761923e-01\n",
            " 9.28769597e-01 1.58996334e+00 2.17553779e+01 2.61239929e+02\n",
            " 1.13172734e+01 1.62617365e+00 1.18413725e+00 8.01151854e-01\n",
            " 4.74801129e-01 2.52603057e-01 1.24516472e-01 5.93293979e-02\n",
            " 2.81363262e-02 1.33388385e-02 6.22846058e-03 2.80382991e-03\n",
            " 1.19399977e-03 4.74508614e-04 1.74370898e-04 5.88291410e-05\n",
            " 1.80866957e-05 5.01611060e-06 1.23550394e-06 2.63878465e-07]\n"
          ]
        }
      ]
    },
    {
      "cell_type": "markdown",
      "source": [
        "#Pennylane"
      ],
      "metadata": {
        "id": "x8MZdANAf3xU"
      }
    },
    {
      "cell_type": "code",
      "source": [
        "geom_data = geom.split()\n",
        "symbols = tuple(geom_data[4*i] for i in range(len(geom_data)//4))\n",
        "coordinates = tuple(geom_data[4*i+1:4*i+4] for i in range(len(geom_data)//4))\n",
        "coordinates = np.array(coordinates, dtype=float).reshape((-1, 3)) * Ang2Bohr\n",
        "\n",
        "# Set up the molecule object without active space specification\n",
        "qml_mol = qml.qchem.Molecule(symbols, coordinates, charge=charge, mult=mult, basis_name=basis)"
      ],
      "metadata": {
        "id": "RFZiuvCvTEFN"
      },
      "execution_count": 14,
      "outputs": []
    },
    {
      "cell_type": "code",
      "source": [
        "# Calculate the Hamiltonian, the hf_state, and the number of qubits whit Hartree-Fock\n",
        "H_complet, qubits = qml.qchem.molecular_hamiltonian(qml_mol)\n",
        "\n",
        "ref_hf = qml.qchem.hf_state(nelec, qubits)"
      ],
      "metadata": {
        "id": "Q-eYLjH5ggmR"
      },
      "execution_count": 15,
      "outputs": []
    },
    {
      "cell_type": "code",
      "source": [
        "# Calculate the Hamiltonian, the hf_state, and the number of qubits, specifying the active space\n",
        "H_active, qubits_active = qml.qchem.molecular_hamiltonian(\n",
        "    qml_mol, active_electrons=active_electrons, active_orbitals=active_orbitals)\n",
        "if active_space:\n",
        "    ref_active = qml.qchem.hf_state(active_electrons, qubits_active)\n",
        "else:\n",
        "    ref_active = qml.qchem.hf_state(nelec, qubits_active)"
      ],
      "metadata": {
        "id": "BAzhRtWg5eSA"
      },
      "execution_count": 16,
      "outputs": []
    },
    {
      "cell_type": "code",
      "source": [
        "print(ref_hf)\n",
        "print(ref_active)"
      ],
      "metadata": {
        "colab": {
          "base_uri": "https://localhost:8080/"
        },
        "id": "LJIgscs-QnQ5",
        "outputId": "1c06207e-9c4f-4125-8231-781fdf0eab58"
      },
      "execution_count": 17,
      "outputs": [
        {
          "output_type": "stream",
          "name": "stdout",
          "text": [
            "[1 1 1 1 1 1 1 1 1 1 0 0]\n",
            "[1 1 0 0]\n"
          ]
        }
      ]
    },
    {
      "cell_type": "code",
      "source": [
        "dev = qml.device(\"default.qubit\", wires=list(range(qubits)))"
      ],
      "metadata": {
        "id": "ghAbsFHajBUW"
      },
      "execution_count": 18,
      "outputs": []
    },
    {
      "cell_type": "code",
      "source": [
        "#X_pq whit HF state\n",
        "\n",
        "@qml.qnode(dev)\n",
        "def excitation_operator_expval_hf(ref_hf, X_pq):\n",
        "  qml.BasisState(ref_hf, wires=range(qubits))\n",
        "  return qml.expval(X_pq)"
      ],
      "metadata": {
        "id": "Cr7MPAwGTMhj"
      },
      "execution_count": 19,
      "outputs": []
    },
    {
      "cell_type": "code",
      "source": [
        "#X_pq with VQE\n",
        "\n",
        "loaded_params = np.load(\"params_hf_2,2_gf.npy\")\n",
        "expected_shape = qml.GateFabric.shape(n_layers=5, n_wires=qubits_active)\n",
        "@qml.qnode(dev)\n",
        "def excitation_operator_expval_active(ref_active, X_pq_active):\n",
        "    qml.GateFabric(loaded_params, wires=list(range(qubits_active)), init_state=ref_active, include_pi=True)\n",
        "    return qml.expval(X_pq_active)"
      ],
      "metadata": {
        "id": "_YbKO9nxWC_b"
      },
      "execution_count": 20,
      "outputs": []
    },
    {
      "cell_type": "code",
      "source": [
        "rdm1 = build_rdm1_active(qubits=qubits, ref_hf=ref_hf, ref_active=ref_active, active_orbitals=active_orbitals, active_indices=active_indices) #active_indices=active_indices)\n",
        "print(\"RDM1 with VQE:\")\n",
        "print(rdm1)"
      ],
      "metadata": {
        "id": "l2xZhwuURuAK",
        "colab": {
          "base_uri": "https://localhost:8080/"
        },
        "outputId": "82a8e766-56d8-437f-b6a7-21bad79997f4"
      },
      "execution_count": 21,
      "outputs": [
        {
          "output_type": "stream",
          "name": "stdout",
          "text": [
            "[8, 9, 10, 11]\n",
            "{8: 0, 9: 1, 10: 2, 11: 3}\n"
          ]
        },
        {
          "output_type": "stream",
          "name": "stderr",
          "text": [
            "/usr/local/lib/python3.11/dist-packages/autoray/autoray.py:1129: ComplexWarning: Casting complex values to real discards the imaginary part\n",
            "  return x.astype(dtype, **kwargs)\n"
          ]
        },
        {
          "output_type": "stream",
          "name": "stdout",
          "text": [
            "RDM1 with VQE:\n",
            "[[1.00000000e+00 0.00000000e+00 0.00000000e+00 0.00000000e+00\n",
            "  0.00000000e+00 0.00000000e+00 0.00000000e+00 0.00000000e+00\n",
            "  0.00000000e+00 0.00000000e+00 0.00000000e+00 0.00000000e+00]\n",
            " [0.00000000e+00 1.00000000e+00 0.00000000e+00 0.00000000e+00\n",
            "  0.00000000e+00 0.00000000e+00 0.00000000e+00 0.00000000e+00\n",
            "  0.00000000e+00 0.00000000e+00 0.00000000e+00 0.00000000e+00]\n",
            " [0.00000000e+00 0.00000000e+00 1.00000000e+00 0.00000000e+00\n",
            "  0.00000000e+00 0.00000000e+00 0.00000000e+00 0.00000000e+00\n",
            "  0.00000000e+00 0.00000000e+00 0.00000000e+00 0.00000000e+00]\n",
            " [0.00000000e+00 0.00000000e+00 0.00000000e+00 1.00000000e+00\n",
            "  0.00000000e+00 0.00000000e+00 0.00000000e+00 0.00000000e+00\n",
            "  0.00000000e+00 0.00000000e+00 0.00000000e+00 0.00000000e+00]\n",
            " [0.00000000e+00 0.00000000e+00 0.00000000e+00 0.00000000e+00\n",
            "  1.00000000e+00 0.00000000e+00 0.00000000e+00 0.00000000e+00\n",
            "  0.00000000e+00 0.00000000e+00 0.00000000e+00 0.00000000e+00]\n",
            " [0.00000000e+00 0.00000000e+00 0.00000000e+00 0.00000000e+00\n",
            "  0.00000000e+00 1.00000000e+00 0.00000000e+00 0.00000000e+00\n",
            "  0.00000000e+00 0.00000000e+00 0.00000000e+00 0.00000000e+00]\n",
            " [0.00000000e+00 0.00000000e+00 0.00000000e+00 0.00000000e+00\n",
            "  0.00000000e+00 0.00000000e+00 1.00000000e+00 0.00000000e+00\n",
            "  0.00000000e+00 0.00000000e+00 0.00000000e+00 0.00000000e+00]\n",
            " [0.00000000e+00 0.00000000e+00 0.00000000e+00 0.00000000e+00\n",
            "  0.00000000e+00 0.00000000e+00 0.00000000e+00 1.00000000e+00\n",
            "  0.00000000e+00 0.00000000e+00 0.00000000e+00 0.00000000e+00]\n",
            " [0.00000000e+00 0.00000000e+00 0.00000000e+00 0.00000000e+00\n",
            "  0.00000000e+00 0.00000000e+00 0.00000000e+00 0.00000000e+00\n",
            "  9.99392293e-01 0.00000000e+00 0.00000000e+00 0.00000000e+00]\n",
            " [0.00000000e+00 0.00000000e+00 0.00000000e+00 0.00000000e+00\n",
            "  0.00000000e+00 0.00000000e+00 0.00000000e+00 0.00000000e+00\n",
            "  0.00000000e+00 9.99392293e-01 0.00000000e+00 0.00000000e+00]\n",
            " [0.00000000e+00 0.00000000e+00 0.00000000e+00 0.00000000e+00\n",
            "  0.00000000e+00 0.00000000e+00 0.00000000e+00 0.00000000e+00\n",
            "  0.00000000e+00 0.00000000e+00 6.07707216e-04 0.00000000e+00]\n",
            " [0.00000000e+00 0.00000000e+00 0.00000000e+00 0.00000000e+00\n",
            "  0.00000000e+00 0.00000000e+00 0.00000000e+00 0.00000000e+00\n",
            "  0.00000000e+00 0.00000000e+00 0.00000000e+00 6.07707216e-04]]\n"
          ]
        }
      ]
    },
    {
      "cell_type": "code",
      "source": [
        "@qml.qnode(dev)\n",
        "def excitation_operator_expval_active(ref_active, H_active):\n",
        "    qml.GateFabric(loaded_params, wires=list(range(qubits_active)), init_state=ref_active, include_pi=True)\n",
        "    return qml.expval(H_active)"
      ],
      "metadata": {
        "id": "uyWFyIApyN4m"
      },
      "execution_count": 22,
      "outputs": []
    },
    {
      "cell_type": "code",
      "source": [
        "H_matrix = qml.matrix(H_active, wire_order=list(range(qubits_active)))\n",
        "\n",
        "eigvals = np.linalg.eigvalsh(H_matrix)\n",
        "E_ground = np.min(eigvals)\n",
        "print(f\"Ground state energy: {E_ground}\")"
      ],
      "metadata": {
        "colab": {
          "base_uri": "https://localhost:8080/"
        },
        "id": "jBVBm61UyPkx",
        "outputId": "c3a78b75-2958-40b8-d976-ae2ee95247ce"
      },
      "execution_count": 23,
      "outputs": [
        {
          "output_type": "stream",
          "name": "stdout",
          "text": [
            "Ground state energy: -98.57361817589556\n"
          ]
        }
      ]
    },
    {
      "cell_type": "code",
      "source": [
        "rdm1_ao = rdm1_mo2ao(rdm1, C) #convert to AO basis\n",
        "print('rdm1 in atomic orbitals')\n",
        "print(rdm1_ao)"
      ],
      "metadata": {
        "id": "bVRM_2TBAKlh",
        "colab": {
          "base_uri": "https://localhost:8080/"
        },
        "outputId": "97f06487-24cc-46f9-c1a5-8e5f36c11cf8"
      },
      "execution_count": 24,
      "outputs": [
        {
          "output_type": "stream",
          "name": "stdout",
          "text": [
            "rdm1 in atomic orbitals\n",
            "[[ 0.61754609 -0.00259083 -0.15397894 -0.76777168  0.          0.        ]\n",
            " [-0.00259083  2.11694154 -0.49453865 -0.07549678  0.          0.        ]\n",
            " [-0.15397894 -0.49453865  2.13057402  0.42574327  0.          0.        ]\n",
            " [-0.76777168 -0.07549678  0.42574327  0.98671223  0.          0.        ]\n",
            " [ 0.          0.          0.          0.          2.          0.        ]\n",
            " [ 0.          0.          0.          0.          0.          1.99878459]]\n"
          ]
        }
      ]
    },
    {
      "cell_type": "code",
      "source": [
        "density_grid = compute_electron_density_grid(rdm1_ao, ao_vals_pyscf)\n",
        "print(density_grid)"
      ],
      "metadata": {
        "id": "uiiRY-RRmeZ6",
        "colab": {
          "base_uri": "https://localhost:8080/"
        },
        "outputId": "c16c9dcb-05ef-4689-fee2-cd6fd23393d3"
      },
      "execution_count": 25,
      "outputs": [
        {
          "output_type": "stream",
          "name": "stdout",
          "text": [
            "[8.31741167e-08 1.71455758e-07 3.44735410e-07 6.76073493e-07\n",
            " 1.29325916e-06 2.41313183e-06 4.39260196e-06 7.80171148e-06\n",
            " 1.35250957e-05 2.29010289e-05 3.79160304e-05 6.14967982e-05\n",
            " 9.79964624e-05 1.54084723e-04 2.40457863e-04 3.75132445e-04\n",
            " 5.89629016e-04 9.40102811e-04 1.52623090e-03 2.52058158e-03\n",
            " 4.20843402e-03 7.03129888e-03 1.16263914e-02 1.89112985e-02\n",
            " 3.04858520e-02 4.99137634e-02 8.47572614e-02 1.45447238e-01\n",
            " 2.32321439e-01 3.16864704e-01 3.58430359e-01 3.57169486e-01\n",
            " 3.59506551e-01 4.10684894e-01 5.28779917e-01 7.08763330e-01\n",
            " 9.28772296e-01 1.58996659e+00 2.17553786e+01 2.61239933e+02\n",
            " 1.13172755e+01 1.62617536e+00 1.18413833e+00 8.01152533e-01\n",
            " 4.74801559e-01 2.52603297e-01 1.24516590e-01 5.93294533e-02\n",
            " 2.81363529e-02 1.33388521e-02 6.22846778e-03 2.80383369e-03\n",
            " 1.19400168e-03 4.74509524e-04 1.74371305e-04 5.88293119e-05\n",
            " 1.80867637e-05 5.01613644e-06 1.23551343e-06 2.63881871e-07]\n"
          ]
        }
      ]
    },
    {
      "cell_type": "markdown",
      "source": [
        "#Electron density"
      ],
      "metadata": {
        "id": "74A5e9jGjOlM"
      }
    },
    {
      "cell_type": "code",
      "source": [
        "print('pyscf')\n",
        "print(rdm1_pyscf)\n",
        "\n",
        "print('pennylane')\n",
        "print(rdm1_ao)"
      ],
      "metadata": {
        "id": "0W0v8ixQbNd7",
        "colab": {
          "base_uri": "https://localhost:8080/"
        },
        "outputId": "6347cc01-9b4b-4716-ed90-7fce4c0abef1"
      },
      "execution_count": 26,
      "outputs": [
        {
          "output_type": "stream",
          "name": "stdout",
          "text": [
            "pyscf\n",
            "[[ 0.61753979 -0.00259131 -0.15397585 -0.76777657  0.          0.        ]\n",
            " [-0.00259131  2.11694151 -0.49453841 -0.07549715  0.          0.        ]\n",
            " [-0.15397585 -0.49453841  2.13057251  0.42574567  0.          0.        ]\n",
            " [-0.76777657 -0.07549715  0.42574567  0.98670845  0.          0.        ]\n",
            " [ 0.          0.          0.          0.          2.          0.        ]\n",
            " [ 0.          0.          0.          0.          0.          1.99879026]]\n",
            "pennylane\n",
            "[[ 0.61754609 -0.00259083 -0.15397894 -0.76777168  0.          0.        ]\n",
            " [-0.00259083  2.11694154 -0.49453865 -0.07549678  0.          0.        ]\n",
            " [-0.15397894 -0.49453865  2.13057402  0.42574327  0.          0.        ]\n",
            " [-0.76777168 -0.07549678  0.42574327  0.98671223  0.          0.        ]\n",
            " [ 0.          0.          0.          0.          2.          0.        ]\n",
            " [ 0.          0.          0.          0.          0.          1.99878459]]\n"
          ]
        }
      ]
    },
    {
      "cell_type": "code",
      "source": [
        "#Differences between electron density with pyscf and pennylane\n",
        "difference = density_grid - density_grid_pyscf\n",
        "print(difference)"
      ],
      "metadata": {
        "id": "1-rqS-7BC3iW",
        "colab": {
          "base_uri": "https://localhost:8080/"
        },
        "outputId": "4be73a13-5c90-4aa9-a1b7-2819da591bf9"
      },
      "execution_count": 27,
      "outputs": [
        {
          "output_type": "stream",
          "name": "stdout",
          "text": [
            "[8.48839353e-13 1.74980383e-12 3.51822112e-12 6.89971281e-12\n",
            " 1.31984321e-11 2.46273132e-11 4.48286814e-11 7.96195446e-11\n",
            " 1.38025867e-10 2.33697469e-10 3.86880618e-10 6.27355741e-10\n",
            " 9.99277473e-10 1.56991476e-09 2.44617125e-09 3.80575957e-09\n",
            " 5.95409385e-09 9.42250750e-09 1.51243972e-08 2.45724401e-08\n",
            " 4.01126813e-08 6.50433566e-08 1.03471020e-07 1.60318506e-07\n",
            " 2.43874150e-07 3.75202318e-07 6.01505797e-07 9.79378291e-07\n",
            " 1.45986478e-06 1.74422533e-06 1.48446146e-06 7.82558476e-07\n",
            " 1.58949172e-07 2.02676000e-08 4.60098380e-07 1.40697401e-06\n",
            " 2.69920361e-06 3.25199101e-06 6.46160025e-07 4.10715211e-06\n",
            " 2.04622023e-06 1.70894661e-06 1.07835427e-06 6.79592702e-07\n",
            " 4.29852092e-07 2.39463913e-07 1.17873325e-07 5.53737586e-08\n",
            " 2.67272123e-08 1.36362024e-08 7.20397401e-09 3.78334701e-09\n",
            " 1.90964948e-09 9.09671877e-10 4.06639161e-10 1.70929289e-10\n",
            " 6.80010074e-11 2.58413855e-11 9.48603837e-12 3.40613262e-12]\n"
          ]
        }
      ]
    },
    {
      "cell_type": "code",
      "source": [
        "difference = rdm1_ao - rdm1_pyscf\n",
        "print(difference)"
      ],
      "metadata": {
        "id": "ql9Vzhl9zEg7",
        "outputId": "1bc640b0-52b7-4362-a845-2af5a3608e21",
        "colab": {
          "base_uri": "https://localhost:8080/"
        }
      },
      "execution_count": 28,
      "outputs": [
        {
          "output_type": "stream",
          "name": "stdout",
          "text": [
            "[[ 6.30241064e-06  4.82361074e-07 -3.08591391e-06  4.88374258e-06\n",
            "   0.00000000e+00  0.00000000e+00]\n",
            " [ 4.82361074e-07  3.69179696e-08 -2.36183396e-07  3.73781947e-07\n",
            "   0.00000000e+00  0.00000000e+00]\n",
            " [-3.08591391e-06 -2.36183396e-07  1.51098765e-06 -2.39127693e-06\n",
            "   0.00000000e+00  0.00000000e+00]\n",
            " [ 4.88374258e-06  3.73781947e-07 -2.39127693e-06  3.78441567e-06\n",
            "   0.00000000e+00  0.00000000e+00]\n",
            " [ 0.00000000e+00  0.00000000e+00  0.00000000e+00  0.00000000e+00\n",
            "   0.00000000e+00  0.00000000e+00]\n",
            " [ 0.00000000e+00  0.00000000e+00  0.00000000e+00  0.00000000e+00\n",
            "   0.00000000e+00 -5.67466379e-06]]\n"
          ]
        }
      ]
    },
    {
      "cell_type": "code",
      "source": [
        "import matplotlib.pyplot as plt\n",
        "\n",
        "plt.plot(grid[:, 0] / Ang2Bohr, density_grid, label=\"PennyLane\")\n",
        "plt.plot(grid[:, 0] / Ang2Bohr, density_grid_pyscf, label=\"PySCF\", linestyle=\"dashed\")\n",
        "plt.xlim(-2, 2)\n",
        "\n",
        "plt.xlabel(\"Distance (Å)\")\n",
        "plt.ylabel(\"Electron density\")\n",
        "plt.legend()\n",
        "plt.show()\n",
        "\n",
        "plt.plot(grid[:, 0] / Ang2Bohr, density_grid - density_grid_pyscf, color='red')\n",
        "plt.xlim(-2, 2)\n",
        "\n",
        "plt.xlabel(\"Distance (Å)\")\n",
        "plt.ylabel(\"Electron Density Difference\")\n",
        "plt.legend()\n",
        "plt.show()"
      ],
      "metadata": {
        "id": "eLu_gtFpjP7v",
        "colab": {
          "base_uri": "https://localhost:8080/",
          "height": 954
        },
        "outputId": "33cb4e6c-b1a4-49d0-e22a-411e3b235e51"
      },
      "execution_count": 29,
      "outputs": [
        {
          "output_type": "display_data",
          "data": {
            "text/plain": [
              "<Figure size 640x480 with 1 Axes>"
            ],
            "image/png": "[encoded data removed]"
          },
          "metadata": {}
        },
        {
          "output_type": "stream",
          "name": "stderr",
          "text": [
            "<ipython-input-29-345c4e28ed56>:17: UserWarning: No artists with labels found to put in legend.  Note that artists whose label start with an underscore are ignored when legend() is called with no argument.\n",
            "  plt.legend()\n"
          ]
        },
        {
          "output_type": "display_data",
          "data": {
            "text/plain": [
              "<Figure size 640x480 with 1 Axes>"
            ],
            "image/png": "[encoded data removed]"
          },
          "metadata": {}
        }
      ]
    },
    {
      "cell_type": "markdown",
      "source": [
        "##Maximum and Minimum values\n",
        "Bond-critical points (BCP) Is the minimun value"
      ],
      "metadata": {
        "id": "ufu6VBvWkyCQ"
      }
    },
    {
      "cell_type": "code",
      "source": [
        "#----------------- PySCF ---------------------------------------------------------\n",
        "\n",
        "maxima_pyscf = argrelextrema(density_grid_pyscf, np.greater)[0]\n",
        "minima_pyscf = argrelextrema(density_grid_pyscf, np.less)[0]\n",
        "\n",
        "#----------------- PennyLane -----------------------------------------------------\n",
        "\n",
        "maxima_pennylane = argrelextrema(density_grid, np.greater)[0]\n",
        "minima_pennylane = argrelextrema(density_grid, np.less)[0]\n",
        "\n",
        "#----------------- Graphs --------------------------------------\n",
        "x_pyscf = np.linspace(-2, 2, len(density_grid_pyscf))\n",
        "x_pennylane = np.linspace(-2, 2, len(density_grid))\n",
        "\n",
        "\n",
        "def print_critical_points_pyscf(label, x_values, density_values):\n",
        "    for idx in x_values:\n",
        "        print(f\"{label} at x = {x_pyscf[idx]:.3f} Å with density {density_values[idx]:.3f}\")\n",
        "\n",
        "\n",
        "def print_critical_points_pennylane(label, x_values, density_values):\n",
        "    for idx in x_values:\n",
        "        print(f\"{label} at x = {x_pennylane[idx]:.3f} Å with density {density_values[idx]:.3f}\")\n",
        "\n",
        "print(\"PySCF Critical Points:\")\n",
        "print_critical_points_pyscf(\"Local maximum\", maxima_pyscf, density_grid_pyscf)\n",
        "print_critical_points_pyscf(\"Local minimum\", minima_pyscf, density_grid_pyscf)\n",
        "\n",
        "print(\"\\nPennyLane Critical Points:\")\n",
        "print_critical_points_pennylane(\"Local maximum\", maxima_pennylane, density_grid)\n",
        "print_critical_points_pennylane(\"Local minimum\", minima_pennylane, density_grid)\n"
      ],
      "metadata": {
        "id": "YknJI4VlsSrN",
        "colab": {
          "base_uri": "https://localhost:8080/"
        },
        "outputId": "d85574e2-693d-4ca9-a0a2-4386822329ec"
      },
      "execution_count": 30,
      "outputs": [
        {
          "output_type": "stream",
          "name": "stdout",
          "text": [
            "PySCF Critical Points:\n",
            "Local maximum at x = 0.034 Å with density 0.358\n",
            "Local maximum at x = 0.644 Å with density 261.240\n",
            "Local minimum at x = 0.102 Å with density 0.357\n",
            "\n",
            "PennyLane Critical Points:\n",
            "Local maximum at x = 0.034 Å with density 0.358\n",
            "Local maximum at x = 0.644 Å with density 261.240\n",
            "Local minimum at x = 0.102 Å with density 0.357\n"
          ]
        }
      ]
    },
    {
      "cell_type": "markdown",
      "source": [
        "##Laplacian"
      ],
      "metadata": {
        "id": "h9JFLf8Toqk1"
      }
    },
    {
      "cell_type": "markdown",
      "source": [
        "Laplacian of a 1D (density) function using the finite difference formula:\n",
        "\n",
        "\n",
        "![image.png](data:image/png;base64,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)\n"
      ],
      "metadata": {
        "id": "nIpq_I8Lv4Xs"
      }
    },
    {
      "cell_type": "code",
      "source": [
        "import numpy as np\n",
        "import matplotlib.pyplot as plt\n",
        "from scipy.signal import argrelextrema\n",
        "\n",
        "# Function to calculate the Laplacian (second derivative)\n",
        "\n",
        "def laplacian_1d(rho_data, dx):\n",
        "    laplacian_data = np.zeros_like(rho_data)\n",
        "\n",
        "    # Calculate the second derivative in 1D using finite differences\n",
        "    for i in range(1, len(rho_data) - 1):  #Avoid the edges\n",
        "        laplacian_data[i] = (rho_data[i+1] - 2 * rho_data[i] + rho_data[i-1]) / dx**2\n",
        "\n",
        "    return laplacian_data\n",
        "\n",
        "#----------------- PySCF ---------------------------------------------------------\n",
        "# Ensures that x has the same size as the density\n",
        "x_pyscf = np.linspace(-2, 2, len(density_grid_pyscf))\n",
        "# Calculate the electron density laplacian for PySCF\n",
        "dx = x_pyscf[1] - x_pyscf[0]  # Considering the spacing between the points of x\n",
        "laplacian_pyscf = laplacian_1d(density_grid_pyscf, dx)\n",
        "\n",
        "# Find local maxima and minima\n",
        "maxima_pyscf = argrelextrema(density_grid_pyscf, np.greater)[0]\n",
        "minima_pyscf = argrelextrema(density_grid_pyscf, np.less)[0]\n",
        "\n",
        "#----------------- PennyLane -----------------------------------------------------\n",
        "\n",
        "\n",
        "x_pennylane = np.linspace(-2, 2, len(density_grid))\n",
        "\n",
        "dx_pennylane = x_pennylane[1] - x_pennylane[0]\n",
        "laplacian_pennylane = laplacian_1d(density_grid, dx_pennylane)\n",
        "maxima_pennylane = argrelextrema(density_grid, np.greater)[0]\n",
        "minima_pennylane = argrelextrema(density_grid, np.less)[0]\n",
        "\n",
        "#----------------- Printing the Laplacian at Critical Points -------------------\n",
        "\n",
        "print(\"\\nLaplacian at Critical Points for PySCF Electron Density:\")\n",
        "\n",
        "print(\"\\nPySCF Local Maxima Laplacian:\")\n",
        "for i in maxima_pyscf:\n",
        "    print(f\"x = {x_pyscf[i]:.3f} Å: Laplacian = {laplacian_pyscf[i]:.5f}\")\n",
        "\n",
        "print(\"\\nPySCF Local Minima Laplacian:\")\n",
        "for i in minima_pyscf:\n",
        "    print(f\"x = {x_pyscf[i]:.3f} Å: Laplacian = {laplacian_pyscf[i]:5f}\")\n",
        "\n",
        "\n",
        "print(\"\\nLaplacian at Critical Points for PennyLane Electron Density:\")\n",
        "\n",
        "print(\"\\nPennylane Local Maxima Laplacian:\")\n",
        "for i in maxima_pennylane:\n",
        "    print(f\"x = {x_pennylane[i]:.3f} Å: Laplacian = {laplacian_pennylane[i]:.5f}\")\n",
        "\n",
        "print(\"\\nPennylane Local Minima Laplacian:\")\n",
        "for i in minima_pennylane:\n",
        "    print(f\"x = {x_pyscf[i]:.3f} Å: Laplacian = {laplacian_pennylane[i]:5f}\")\n",
        "\n",
        "\n",
        "\n",
        "#----------------- Differences between Laplacians and Δρ at Critical Points ------------------\n",
        "\n",
        "print(\"\\nDifferences between PySCF and PennyLane Laplacian at Critical Points:\")\n",
        "\n",
        "# Differences in local maxima\n",
        "print(\"\\nDifferences at Local Maxima:\")\n",
        "for i, max_pyscf in enumerate(maxima_pyscf):\n",
        "    if i < len(maxima_pennylane):\n",
        "        x_diff = abs(x_pyscf[max_pyscf] - x_pennylane[maxima_pennylane[i]])\n",
        "        laplacian_diff = abs(laplacian_pyscf[max_pyscf] - laplacian_pennylane[maxima_pennylane[i]])\n",
        "        rho_diff = abs(density_grid_pyscf[max_pyscf] - density_grid[maxima_pennylane[i]])\n",
        "        print(f\"Max Diff at x = {x_pyscf[max_pyscf]:.5f} Å: Δx = {x_diff:.5f} Å, ΔLaplacian = {laplacian_diff:.5f}, Δρ = {rho_diff:.5f}\")\n",
        "\n",
        "# Differences in local minima\n",
        "print(\"\\nDifferences at Local Minima:\")\n",
        "for i, min_pyscf in enumerate(minima_pyscf):\n",
        "    if i < len(minima_pennylane):\n",
        "        x_diff = abs(x_pyscf[min_pyscf] - x_pennylane[minima_pennylane[i]])\n",
        "        laplacian_diff = abs(laplacian_pyscf[min_pyscf] - laplacian_pennylane[minima_pennylane[i]])\n",
        "        rho_diff = abs(density_grid_pyscf[min_pyscf] - density_grid[minima_pennylane[i]])\n",
        "        print(f\"Min Diff at x = {x_pyscf[min_pyscf]:.5f} Å: Δx = {x_diff:.5f} Å, ΔLaplacian = {laplacian_diff:.5f}, Δρ = {rho_diff:.5f}\")"
      ],
      "metadata": {
        "id": "KZoSk2o3tCas",
        "colab": {
          "base_uri": "https://localhost:8080/"
        },
        "outputId": "ae171679-ba5c-4000-db10-e3b779b8f14c"
      },
      "execution_count": 31,
      "outputs": [
        {
          "output_type": "stream",
          "name": "stdout",
          "text": [
            "\n",
            "Laplacian at Critical Points for PySCF Electron Density:\n",
            "\n",
            "PySCF Local Maxima Laplacian:\n",
            "x = 0.034 Å: Laplacian = -9.31735\n",
            "x = 0.644 Å: Laplacian = -106476.65537\n",
            "\n",
            "PySCF Local Minima Laplacian:\n",
            "x = 0.102 Å: Laplacian = 0.782759\n",
            "\n",
            "Laplacian at Critical Points for PennyLane Electron Density:\n",
            "\n",
            "Pennylane Local Maxima Laplacian:\n",
            "x = 0.034 Å: Laplacian = -9.31745\n",
            "x = 0.644 Å: Laplacian = -106476.65658\n",
            "\n",
            "Pennylane Local Minima Laplacian:\n",
            "x = 0.102 Å: Laplacian = 0.782776\n",
            "\n",
            "Differences between PySCF and PennyLane Laplacian at Critical Points:\n",
            "\n",
            "Differences at Local Maxima:\n",
            "Max Diff at x = 0.03390 Å: Δx = 0.00000 Å, ΔLaplacian = 0.00010, Δρ = 0.00000\n",
            "Max Diff at x = 0.64407 Å: Δx = 0.00000 Å, ΔLaplacian = 0.00120, Δρ = 0.00000\n",
            "\n",
            "Differences at Local Minima:\n",
            "Min Diff at x = 0.10169 Å: Δx = 0.00000 Å, ΔLaplacian = 0.00002, Δρ = 0.00000\n"
          ]
        }
      ]
    },
    {
      "cell_type": "markdown",
      "source": [
        "#Dipole moment"
      ],
      "metadata": {
        "id": "O2XVUab5s8cW"
      }
    },
    {
      "cell_type": "code",
      "source": [
        "from pyscf.scf.hf import dip_moment\n",
        "\n",
        "print('Pyscf')\n",
        "dipole_moment_pyscf = dip_moment(mol, rdm1_pyscf)\n",
        "\n",
        "print('Pennylane')\n",
        "dipole_moment_pennylane = dip_moment(mol, rdm1_ao)\n",
        "\n",
        "print('diferrence: pennylane - pyscf')\n",
        "difference_dipole = dipole_moment_pennylane - dipole_moment_pyscf\n",
        "print(difference_dipole)"
      ],
      "metadata": {
        "id": "lxoNsEuUyIVY",
        "colab": {
          "base_uri": "https://localhost:8080/"
        },
        "outputId": "618266d5-20cd-43d1-c962-2481a51f8c25"
      },
      "execution_count": 32,
      "outputs": [
        {
          "output_type": "stream",
          "name": "stdout",
          "text": [
            "Pyscf\n",
            "Dipole moment(X, Y, Z, Debye): -1.24434,  0.00000,  0.00000\n",
            "Pennylane\n",
            "Dipole moment(X, Y, Z, Debye): -1.24432,  0.00000,  0.00000\n",
            "diferrence: pennylane - pyscf\n",
            "[1.88302999e-05 0.00000000e+00 0.00000000e+00]\n"
          ]
        }
      ]
    },
    {
      "cell_type": "code",
      "source": [
        "dipole_total_pyscf = np.linalg.norm(dipole_moment_pyscf)\n",
        "dipole_total_pennylane = np.linalg.norm(dipole_moment_pennylane)\n",
        "difference_dipole_total = np.linalg.norm(difference_dipole)\n",
        "\n",
        "print(f'Momento de dipolo total (PySCF): {dipole_total_pyscf}')\n",
        "print(f'Momento de dipolo total (PennyLane): {dipole_total_pennylane}')\n",
        "print(f'Diferença total: {difference_dipole_total}')"
      ],
      "metadata": {
        "id": "RxKfdaghEhsX"
      },
      "execution_count": null,
      "outputs": []
    },
    {
      "cell_type": "markdown",
      "source": [
        "#Mulliken pop"
      ],
      "metadata": {
        "id": "myKq2RO_yS0K"
      }
    },
    {
      "cell_type": "code",
      "source": [
        "from pyscf.scf.hf import mulliken_pop\n",
        "\n",
        "print('Pyscf')\n",
        "mulliken_pop_pyscf = mulliken_pop(mol, rdm1_pyscf)\n",
        "\n",
        "print('Pennylane')\n",
        "mulliken_pop_pennylane = mulliken_pop(mol, rdm1_ao)"
      ],
      "metadata": {
        "id": "D-0heZLHyUN_",
        "colab": {
          "base_uri": "https://localhost:8080/"
        },
        "outputId": "2d618830-5249-4ccb-b7c8-28d6ff2557aa"
      },
      "execution_count": 33,
      "outputs": [
        {
          "output_type": "stream",
          "name": "stdout",
          "text": [
            "Pyscf\n",
            " ** Mulliken pop  **\n",
            "pop of  0 H 1s            0.80996\n",
            "pop of  1 F 1s            1.99913\n",
            "pop of  1 F 2s            1.94770\n",
            "pop of  1 F 2px           1.24442\n",
            "pop of  1 F 2py           2.00000\n",
            "pop of  1 F 2pz           1.99879\n",
            " ** Mulliken atomic charges  **\n",
            "charge of    0H =      0.19004\n",
            "charge of    1F =     -0.19004\n",
            "Pennylane\n",
            " ** Mulliken pop  **\n",
            "pop of  0 H 1s            0.80996\n",
            "pop of  1 F 1s            1.99913\n",
            "pop of  1 F 2s            1.94770\n",
            "pop of  1 F 2px           1.24443\n",
            "pop of  1 F 2py           2.00000\n",
            "pop of  1 F 2pz           1.99878\n",
            " ** Mulliken atomic charges  **\n",
            "charge of    0H =      0.19004\n",
            "charge of    1F =     -0.19004\n"
          ]
        }
      ]
    },
    {
      "cell_type": "code",
      "source": [
        "# The atomic charges are in the second part of the output tuple\n",
        "charges_pyscf = mulliken_pop_pyscf[1]\n",
        "charges_pennylane = mulliken_pop_pennylane[1]\n",
        "\n",
        "# Calculate the difference between atomic charges\n",
        "charge_differences = np.array(charges_pyscf) - np.array(charges_pennylane)\n",
        "\n",
        "print(\"\\nDifference between atomic charges:\")\n",
        "for i, diff in enumerate(charge_differences):\n",
        "    print(f\"Ato {i}: charge difference = {diff:.6f}\")"
      ],
      "metadata": {
        "id": "nhGyy9j_z4P0",
        "colab": {
          "base_uri": "https://localhost:8080/"
        },
        "outputId": "da17d58b-aaa4-4cc2-daac-2431e5bbd201"
      },
      "execution_count": 34,
      "outputs": [
        {
          "output_type": "stream",
          "name": "stdout",
          "text": [
            "\n",
            "Difference between atomic charges:\n",
            "Ato 0: charge difference = 0.000003\n",
            "Ato 1: charge difference = -0.000003\n"
          ]
        }
      ]
    },
    {
      "cell_type": "markdown",
      "source": [
        "#Electrostatic potential"
      ],
      "metadata": {
        "id": "dJILp4xCWV7I"
      }
    },
    {
      "cell_type": "markdown",
      "source": [
        "Guassian: https://mhko.science/p/blog/030-tutorial-how-to-visualize-molecular-electrostatic-potential-with-molekel/"
      ],
      "metadata": {
        "id": "ABj-_YexIILT"
      }
    },
    {
      "cell_type": "code",
      "source": [
        "cube_pyscf = tools.cubegen.mep(mol, \"mep_pyscf.cube\", rdm1_pyscf, resolution=0.1)\n",
        "cube_pennylane = tools.cubegen.mep(mol, \"mep_pennylane.cube\", rdm1_ao, resolution=0.1)"
      ],
      "metadata": {
        "id": "9mn_fnyBWYMD"
      },
      "execution_count": 39,
      "outputs": []
    },
    {
      "cell_type": "code",
      "source": [
        "bohr_to_angstrom = 0.529177\n",
        "\n",
        "def read_cube(filename):\n",
        "    with open(filename, \"r\") as f:\n",
        "        lines = f.readlines()\n",
        "\n",
        "    # Skip the first 6 headers of the Cube file\n",
        "    natoms = int(lines[2].split()[0])\n",
        "    origin = np.array([float(x) for x in lines[2].split()[1:]])\n",
        "\n",
        "    # Read grid dimensions\n",
        "    nx, ny, nz = [int(lines[i].split()[0]) for i in range(3, 6)]\n",
        "    grid_vectors = np.array([[float(x) for x in lines[i].split()[1:]] for i in range(3, 6)])\n",
        "\n",
        "    # Calculate the coordinate grid\n",
        "    x_vals = np.linspace(origin[0], origin[0] + grid_vectors[0, 0] * (nx - 1), nx)\n",
        "    y_vals = np.linspace(origin[1], origin[1] + grid_vectors[1, 1] * (ny - 1), ny)\n",
        "    z_vals = np.linspace(origin[2], origin[2] + grid_vectors[2, 2] * (nz - 1), nz)\n",
        "\n",
        "    # Convert from Bohr to Ångströms\n",
        "    x_vals *= bohr_to_angstrom\n",
        "    y_vals *= bohr_to_angstrom\n",
        "    z_vals *= bohr_to_angstrom\n",
        "\n",
        "    # Read electrostatic potential data\n",
        "    data_start = 6 + natoms  # Skip the atom lines\n",
        "    values = np.array([float(v) for line in lines[data_start:] for v in line.split()])\n",
        "\n",
        "    # Resize to 3D grid\n",
        "    data = values.reshape((nx, ny, nz))\n",
        "\n",
        "    return x_vals, y_vals, z_vals, data\n"
      ],
      "metadata": {
        "id": "dgdk7N2MYMSB"
      },
      "execution_count": 40,
      "outputs": []
    },
    {
      "cell_type": "code",
      "source": [
        "# Read data from the Cube file (Pyscf)\n",
        "\n",
        "\n",
        "x_vals_1, y_vals_1, z_vals_1, data_1 = read_cube(\"mep_pyscf.cube\")\n",
        "\n",
        "# Take a cut in the middle of the grid (y plane = 0) for Pyscf\n",
        "mid_y_1 = len(y_vals_1) // 2  # Central index\n",
        "mep_2d_1 = data_1[:, mid_y_1, :]  # Grid slicing\n",
        "\n",
        "# Read data from the Cube file (PennyLane)\n",
        "x_vals_2, y_vals_2, z_vals_2, data_2 = read_cube(\"mep_pennylane.cube\")\n",
        "\n",
        "# Take a cut in the middle of the grid (y plane = 0) for PennyLane\n",
        "mid_y_2 = len(y_vals_2) // 2  # Central index\n",
        "mep_2d_2 = data_2[:, mid_y_2, :]  # Grid slicing\n",
        "\n",
        "\n",
        "# Plotting the two heatmaps side by side\n",
        "plt.figure(figsize=(16, 6))\n",
        "\n",
        "# Subplot for Pyscf\n",
        "plt.subplot(1, 2, 1)\n",
        "X, Z = np.meshgrid(x_vals_1, z_vals_1)\n",
        "plt.contourf(X, Z, mep_2d_1.T, levels=100, cmap=\"RdBu_r\",  interpolation=\"bilinear\")\n",
        "\n",
        "plt.colorbar(label=\"Electrostatic Potential (a.u.)\")\n",
        "plt.xlabel(\"x (Å)\")\n",
        "plt.ylabel(\"z (Å)\")\n",
        "plt.title(\"2D Map of Electrostatic Potential (y=0 Plane) - Pyscf\")\n",
        "\n",
        "# Subplot for PennyLane\n",
        "plt.subplot(1, 2, 2)\n",
        "\n",
        "X, Z = np.meshgrid(x_vals_2, z_vals_2)\n",
        "plt.contourf(X, Z, mep_2d_1.T, levels=100, cmap=\"RdBu_r\",  interpolation=\"bilinear\")\n",
        "\n",
        "\n",
        "\n",
        "#plt.imshow(mep_2d_1.T, extent=[x_vals_1.min(), x_vals_1.max(), z_vals_1.min(), z_vals_1.max()],\n",
        "          # origin=\"lower\", cmap=\"RdBu_r\", aspect=\"auto\", interpolation=\"bilinear\")\n",
        "\n",
        "\n",
        "plt.colorbar(label=\"Electrostatic Potential (a.u.)\")\n",
        "plt.xlabel(\"x (Å)\")\n",
        "plt.ylabel(\"z (Å)\")\n",
        "plt.title(\"2D Map of Electrostatic Potential (y=0 Plane) - PennyLane\")\n",
        "\n",
        "plt.tight_layout()\n",
        "plt.show()\n"
      ],
      "metadata": {
        "id": "RbasCSFbYSQS",
        "colab": {
          "base_uri": "https://localhost:8080/",
          "height": 452
        },
        "outputId": "70d74887-6d84-479b-8031-d0ce78383565"
      },
      "execution_count": 48,
      "outputs": [
        {
          "output_type": "stream",
          "name": "stderr",
          "text": [
            "<ipython-input-48-950bfbd26a93>:24: UserWarning: The following kwargs were not used by contour: 'interpolation'\n",
            "  plt.contourf(X, Z, mep_2d_1.T, levels=100, cmap=\"RdBu_r\",  interpolation=\"bilinear\")\n",
            "<ipython-input-48-950bfbd26a93>:35: UserWarning: The following kwargs were not used by contour: 'interpolation'\n",
            "  plt.contourf(X, Z, mep_2d_1.T, levels=100, cmap=\"RdBu_r\",  interpolation=\"bilinear\")\n"
          ]
        },
        {
          "output_type": "display_data",
          "data": {
            "text/plain": [
              "<Figure size 1600x600 with 4 Axes>"
            ],
            "image/png": "[encoded data removed]"
          },
          "metadata": {}
        }
      ]
    },
    {
      "cell_type": "code",
      "source": [
        "# Calculate min and max values for each dataset\n",
        "min_1, max_1 = mep_2d_1.min(), mep_2d_1.max()\n",
        "min_2, max_2 = mep_2d_2.min(), mep_2d_2.max()\n",
        "\n",
        "# Print the minimum and maximum values for each dataset\n",
        "print(f\"Pyscf - Min: {min_1}, Max: {max_1}\")\n",
        "print(f\"PennyLane - Min: {min_2}, Max: {max_2}\")\n"
      ],
      "metadata": {
        "colab": {
          "base_uri": "https://localhost:8080/"
        },
        "id": "FApVJ3v-TwUD",
        "outputId": "2d97e9e2-3474-4fd2-98f3-2f7a57d19f25"
      },
      "execution_count": 49,
      "outputs": [
        {
          "output_type": "stream",
          "name": "stdout",
          "text": [
            "Pyscf - Min: -0.0483784, Max: 101.242\n",
            "PennyLane - Min: -0.0483774, Max: 101.242\n"
          ]
        }
      ]
    },
    {
      "cell_type": "code",
      "source": [
        "import numpy as np\n",
        "import matplotlib.pyplot as plt\n",
        "\n",
        "# Calcular a diferença entre os potenciais de Pyscf e PennyLane\n",
        "mep_diff = mep_2d_1 - mep_2d_2  # Pyscf - PennyLane\n",
        "\n",
        "print(mep_diff)\n"
      ],
      "metadata": {
        "colab": {
          "base_uri": "https://localhost:8080/"
        },
        "id": "WCqp8QCgVrq5",
        "outputId": "e623c9fa-1c13-43a9-d200-2e9dcd37f44b"
      },
      "execution_count": 55,
      "outputs": [
        {
          "output_type": "stream",
          "name": "stdout",
          "text": [
            "[[ 3.e-07  3.e-07  3.e-07 ...  3.e-07  3.e-07  3.e-07]\n",
            " [ 2.e-07  3.e-07  3.e-07 ...  3.e-07  3.e-07  2.e-07]\n",
            " [ 3.e-07  3.e-07  3.e-07 ...  3.e-07  3.e-07  3.e-07]\n",
            " ...\n",
            " [-2.e-07 -3.e-07 -3.e-07 ... -3.e-07 -3.e-07 -2.e-07]\n",
            " [-3.e-07 -2.e-07 -2.e-07 ... -2.e-07 -2.e-07 -3.e-07]\n",
            " [-2.e-07 -3.e-07 -3.e-07 ... -3.e-07 -3.e-07 -2.e-07]]\n"
          ]
        }
      ]
    },
    {
      "cell_type": "code",
      "source": [
        "# Select a specific z slice (e.g., z = 0, which has already been selected)\n",
        "z_index_1 = len(z_vals_1) // 2  # Middle slice for Pyscf\n",
        "z_index_2 = len(z_vals_2) // 2  # Middle slice for PennyLane\n",
        "\n",
        "# Get the difference between the two potentials for the y=0 slice\n",
        "mep_diff = mep_2d_1[z_index_1, :] - mep_2d_2[z_index_2, :]\n",
        "\n",
        "# Plot the difference in a line graph\n",
        "plt.figure(figsize=(10, 6))\n",
        "plt.plot(z_vals_1, mep_diff, label=\"Difference (Pyscf - PennyLane)\", color=\"r\", linewidth=2)\n",
        "\n",
        "plt.xlabel(\"z (Å)\")\n",
        "plt.ylabel(\"Difference in Electrostatic Potential (a.u.)\")\n",
        "plt.title(\"Difference in Electrostatic Potential between Pyscf and PennyLane (y=0 Plane)\")\n",
        "plt.axhline(0, color='black', linewidth=1, linestyle=\"--\")  # Reference line at y=0\n",
        "plt.legend()\n",
        "\n",
        "plt.tight_layout()\n",
        "plt.show()\n"
      ],
      "metadata": {
        "colab": {
          "base_uri": "https://localhost:8080/",
          "height": 591
        },
        "id": "WXUdoOEDWVz4",
        "outputId": "d1257d33-0301-4ad9-afa6-f574969799d6"
      },
      "execution_count": 62,
      "outputs": [
        {
          "output_type": "display_data",
          "data": {
            "text/plain": [
              "<Figure size 1000x600 with 1 Axes>"
            ],
            "image/png": "[encoded data removed]"
          },
          "metadata": {}
        }
      ]
    },
    {
      "cell_type": "code",
      "source": [
        "# Select a specific x slice (e.g., x = 0, which has already been selected)\n",
        "y_index_1 = len(y_vals_1) // 2  # Middle slice for Pyscf\n",
        "y_index_2 = len(y_vals_2) // 2  # Middle slice for PennyLane\n",
        "\n",
        "# Get the difference between the two potentials for the y=0 slice\n",
        "mep_diff = mep_2d_1[:, y_index_1] - mep_2d_2[:, y_index_2]\n",
        "\n",
        "# Plot the difference in a line graph\n",
        "plt.figure(figsize=(10, 6))\n",
        "plt.plot(x_vals_1, mep_diff, label=\"Difference (Pyscf - PennyLane)\", color=\"r\", linewidth=2)\n",
        "\n",
        "plt.xlabel(\"x (Å)\")\n",
        "plt.ylabel(\"Difference in Electrostatic Potential (a.u.)\")\n",
        "plt.title(\"Difference in Electrostatic Potential between Pyscf and PennyLane (z=0 Plane)\")\n",
        "plt.axhline(0, color='black', linewidth=1, linestyle=\"--\")  # Reference line at y=0\n",
        "plt.legend()\n",
        "\n",
        "plt.tight_layout()\n",
        "plt.show()\n"
      ],
      "metadata": {
        "colab": {
          "base_uri": "https://localhost:8080/",
          "height": 591
        },
        "id": "dtncZG0sXWn7",
        "outputId": "060f4970-5dd2-43ca-cca5-636b616d5483"
      },
      "execution_count": 66,
      "outputs": [
        {
          "output_type": "display_data",
          "data": {
            "text/plain": [
              "<Figure size 1000x600 with 1 Axes>"
            ],
            "image/png": "[encoded data removed]"
          },
          "metadata": {}
        }
      ]
    }
  ]
}